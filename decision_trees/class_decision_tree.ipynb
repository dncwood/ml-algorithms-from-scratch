{
 "cells": [
  {
   "cell_type": "markdown",
   "id": "dce81b06",
   "metadata": {},
   "source": [
    "## Decision Tree Classifier Implementation from Scratch"
   ]
  },
  {
   "cell_type": "code",
   "execution_count": 1,
   "id": "c0a55e5b",
   "metadata": {},
   "outputs": [],
   "source": [
    "import numpy as np\n",
    "import pandas as pd\n",
    "import operator\n",
    "\n",
    "from sklearn.metrics import classification_report\n",
    "from sklearn.datasets import load_iris\n",
    "from sklearn.model_selection import train_test_split"
   ]
  },
  {
   "cell_type": "code",
   "execution_count": 2,
   "id": "56f7c953",
   "metadata": {},
   "outputs": [],
   "source": [
    "ops = {\n",
    "    '<=' : operator.le,\n",
    "    '>' : operator.gt\n",
    "}"
   ]
  },
  {
   "cell_type": "code",
   "execution_count": 3,
   "id": "c13b4318",
   "metadata": {},
   "outputs": [
    {
     "name": "stdout",
     "output_type": "stream",
     "text": [
      ".. _iris_dataset:\n",
      "\n",
      "Iris plants dataset\n",
      "--------------------\n",
      "\n",
      "**Data Set Characteristics:**\n",
      "\n",
      ":Number of Instances: 150 (50 in each of three classes)\n",
      ":Number of Attributes: 4 numeric, predictive attributes and the class\n",
      ":Attribute Information:\n",
      "    - sepal length in cm\n",
      "    - sepal width in cm\n",
      "    - petal length in cm\n",
      "    - petal width in cm\n",
      "    - class:\n",
      "            - Iris-Setosa\n",
      "            - Iris-Versicolour\n",
      "            - Iris-Virginica\n",
      "\n",
      ":Summary Statistics:\n",
      "\n",
      "============== ==== ==== ======= ===== ====================\n",
      "                Min  Max   Mean    SD   Class Correlation\n",
      "============== ==== ==== ======= ===== ====================\n",
      "sepal length:   4.3  7.9   5.84   0.83    0.7826\n",
      "sepal width:    2.0  4.4   3.05   0.43   -0.4194\n",
      "petal length:   1.0  6.9   3.76   1.76    0.9490  (high!)\n",
      "petal width:    0.1  2.5   1.20   0.76    0.9565  (high!)\n",
      "============== ==== ==== ======= ===== ====================\n",
      "\n",
      ":Missing Attribute Values: None\n",
      ":Class Distribution: 33.3% for each of 3 classes.\n",
      ":Creator: R.A. Fisher\n",
      ":Donor: Michael Marshall (MARSHALL%PLU@io.arc.nasa.gov)\n",
      ":Date: July, 1988\n",
      "\n",
      "The famous Iris database, first used by Sir R.A. Fisher. The dataset is taken\n",
      "from Fisher's paper. Note that it's the same as in R, but not as in the UCI\n",
      "Machine Learning Repository, which has two wrong data points.\n",
      "\n",
      "This is perhaps the best known database to be found in the\n",
      "pattern recognition literature.  Fisher's paper is a classic in the field and\n",
      "is referenced frequently to this day.  (See Duda & Hart, for example.)  The\n",
      "data set contains 3 classes of 50 instances each, where each class refers to a\n",
      "type of iris plant.  One class is linearly separable from the other 2; the\n",
      "latter are NOT linearly separable from each other.\n",
      "\n",
      ".. dropdown:: References\n",
      "\n",
      "  - Fisher, R.A. \"The use of multiple measurements in taxonomic problems\"\n",
      "    Annual Eugenics, 7, Part II, 179-188 (1936); also in \"Contributions to\n",
      "    Mathematical Statistics\" (John Wiley, NY, 1950).\n",
      "  - Duda, R.O., & Hart, P.E. (1973) Pattern Classification and Scene Analysis.\n",
      "    (Q327.D83) John Wiley & Sons.  ISBN 0-471-22361-1.  See page 218.\n",
      "  - Dasarathy, B.V. (1980) \"Nosing Around the Neighborhood: A New System\n",
      "    Structure and Classification Rule for Recognition in Partially Exposed\n",
      "    Environments\".  IEEE Transactions on Pattern Analysis and Machine\n",
      "    Intelligence, Vol. PAMI-2, No. 1, 67-71.\n",
      "  - Gates, G.W. (1972) \"The Reduced Nearest Neighbor Rule\".  IEEE Transactions\n",
      "    on Information Theory, May 1972, 431-433.\n",
      "  - See also: 1988 MLC Proceedings, 54-64.  Cheeseman et al\"s AUTOCLASS II\n",
      "    conceptual clustering system finds 3 classes in the data.\n",
      "  - Many, many more ...\n",
      "\n"
     ]
    }
   ],
   "source": [
    "iris_sklearn = load_iris(as_frame=True)\n",
    "print(iris_sklearn.DESCR)"
   ]
  },
  {
   "cell_type": "code",
   "execution_count": 4,
   "id": "91b0fa62",
   "metadata": {},
   "outputs": [
    {
     "data": {
      "application/vnd.microsoft.datawrangler.viewer.v0+json": {
       "columns": [
        {
         "name": "index",
         "rawType": "int64",
         "type": "integer"
        },
        {
         "name": "sepal length (cm)",
         "rawType": "float64",
         "type": "float"
        },
        {
         "name": "sepal width (cm)",
         "rawType": "float64",
         "type": "float"
        },
        {
         "name": "petal length (cm)",
         "rawType": "float64",
         "type": "float"
        },
        {
         "name": "petal width (cm)",
         "rawType": "float64",
         "type": "float"
        },
        {
         "name": "target",
         "rawType": "int64",
         "type": "integer"
        }
       ],
       "ref": "407cab25-a68c-4f29-93ed-a9aa1459d5c3",
       "rows": [
        [
         "0",
         "5.1",
         "3.5",
         "1.4",
         "0.2",
         "0"
        ],
        [
         "1",
         "4.9",
         "3.0",
         "1.4",
         "0.2",
         "0"
        ],
        [
         "2",
         "4.7",
         "3.2",
         "1.3",
         "0.2",
         "0"
        ],
        [
         "3",
         "4.6",
         "3.1",
         "1.5",
         "0.2",
         "0"
        ],
        [
         "4",
         "5.0",
         "3.6",
         "1.4",
         "0.2",
         "0"
        ]
       ],
       "shape": {
        "columns": 5,
        "rows": 5
       }
      },
      "text/html": [
       "<div>\n",
       "<style scoped>\n",
       "    .dataframe tbody tr th:only-of-type {\n",
       "        vertical-align: middle;\n",
       "    }\n",
       "\n",
       "    .dataframe tbody tr th {\n",
       "        vertical-align: top;\n",
       "    }\n",
       "\n",
       "    .dataframe thead th {\n",
       "        text-align: right;\n",
       "    }\n",
       "</style>\n",
       "<table border=\"1\" class=\"dataframe\">\n",
       "  <thead>\n",
       "    <tr style=\"text-align: right;\">\n",
       "      <th></th>\n",
       "      <th>sepal length (cm)</th>\n",
       "      <th>sepal width (cm)</th>\n",
       "      <th>petal length (cm)</th>\n",
       "      <th>petal width (cm)</th>\n",
       "      <th>target</th>\n",
       "    </tr>\n",
       "  </thead>\n",
       "  <tbody>\n",
       "    <tr>\n",
       "      <th>0</th>\n",
       "      <td>5.1</td>\n",
       "      <td>3.5</td>\n",
       "      <td>1.4</td>\n",
       "      <td>0.2</td>\n",
       "      <td>0</td>\n",
       "    </tr>\n",
       "    <tr>\n",
       "      <th>1</th>\n",
       "      <td>4.9</td>\n",
       "      <td>3.0</td>\n",
       "      <td>1.4</td>\n",
       "      <td>0.2</td>\n",
       "      <td>0</td>\n",
       "    </tr>\n",
       "    <tr>\n",
       "      <th>2</th>\n",
       "      <td>4.7</td>\n",
       "      <td>3.2</td>\n",
       "      <td>1.3</td>\n",
       "      <td>0.2</td>\n",
       "      <td>0</td>\n",
       "    </tr>\n",
       "    <tr>\n",
       "      <th>3</th>\n",
       "      <td>4.6</td>\n",
       "      <td>3.1</td>\n",
       "      <td>1.5</td>\n",
       "      <td>0.2</td>\n",
       "      <td>0</td>\n",
       "    </tr>\n",
       "    <tr>\n",
       "      <th>4</th>\n",
       "      <td>5.0</td>\n",
       "      <td>3.6</td>\n",
       "      <td>1.4</td>\n",
       "      <td>0.2</td>\n",
       "      <td>0</td>\n",
       "    </tr>\n",
       "  </tbody>\n",
       "</table>\n",
       "</div>"
      ],
      "text/plain": [
       "   sepal length (cm)  sepal width (cm)  petal length (cm)  petal width (cm)  \\\n",
       "0                5.1               3.5                1.4               0.2   \n",
       "1                4.9               3.0                1.4               0.2   \n",
       "2                4.7               3.2                1.3               0.2   \n",
       "3                4.6               3.1                1.5               0.2   \n",
       "4                5.0               3.6                1.4               0.2   \n",
       "\n",
       "   target  \n",
       "0       0  \n",
       "1       0  \n",
       "2       0  \n",
       "3       0  \n",
       "4       0  "
      ]
     },
     "execution_count": 4,
     "metadata": {},
     "output_type": "execute_result"
    }
   ],
   "source": [
    "iris: pd.DataFrame= iris_sklearn.frame\n",
    "iris.head()"
   ]
  },
  {
   "cell_type": "code",
   "execution_count": 5,
   "id": "327b58c8",
   "metadata": {},
   "outputs": [
    {
     "name": "stdout",
     "output_type": "stream",
     "text": [
      "<class 'pandas.core.frame.DataFrame'>\n",
      "RangeIndex: 150 entries, 0 to 149\n",
      "Data columns (total 5 columns):\n",
      " #   Column             Non-Null Count  Dtype  \n",
      "---  ------             --------------  -----  \n",
      " 0   sepal length (cm)  150 non-null    float64\n",
      " 1   sepal width (cm)   150 non-null    float64\n",
      " 2   petal length (cm)  150 non-null    float64\n",
      " 3   petal width (cm)   150 non-null    float64\n",
      " 4   target             150 non-null    int64  \n",
      "dtypes: float64(4), int64(1)\n",
      "memory usage: 6.0 KB\n"
     ]
    }
   ],
   "source": [
    "iris.info()"
   ]
  },
  {
   "cell_type": "code",
   "execution_count": 6,
   "id": "c6534b45",
   "metadata": {},
   "outputs": [
    {
     "data": {
      "application/vnd.microsoft.datawrangler.viewer.v0+json": {
       "columns": [
        {
         "name": "index",
         "rawType": "object",
         "type": "string"
        },
        {
         "name": "sepal length (cm)",
         "rawType": "float64",
         "type": "float"
        },
        {
         "name": "sepal width (cm)",
         "rawType": "float64",
         "type": "float"
        },
        {
         "name": "petal length (cm)",
         "rawType": "float64",
         "type": "float"
        },
        {
         "name": "petal width (cm)",
         "rawType": "float64",
         "type": "float"
        },
        {
         "name": "target",
         "rawType": "float64",
         "type": "float"
        }
       ],
       "ref": "28e4e79e-4a86-4ef1-b29e-f7ff3d4399b3",
       "rows": [
        [
         "count",
         "150.0",
         "150.0",
         "150.0",
         "150.0",
         "150.0"
        ],
        [
         "mean",
         "5.843333333333334",
         "3.0573333333333337",
         "3.7580000000000005",
         "1.1993333333333336",
         "1.0"
        ],
        [
         "std",
         "0.828066127977863",
         "0.4358662849366982",
         "1.7652982332594662",
         "0.7622376689603465",
         "0.8192319205190405"
        ],
        [
         "min",
         "4.3",
         "2.0",
         "1.0",
         "0.1",
         "0.0"
        ],
        [
         "25%",
         "5.1",
         "2.8",
         "1.6",
         "0.3",
         "0.0"
        ],
        [
         "50%",
         "5.8",
         "3.0",
         "4.35",
         "1.3",
         "1.0"
        ],
        [
         "75%",
         "6.4",
         "3.3",
         "5.1",
         "1.8",
         "2.0"
        ],
        [
         "max",
         "7.9",
         "4.4",
         "6.9",
         "2.5",
         "2.0"
        ]
       ],
       "shape": {
        "columns": 5,
        "rows": 8
       }
      },
      "text/html": [
       "<div>\n",
       "<style scoped>\n",
       "    .dataframe tbody tr th:only-of-type {\n",
       "        vertical-align: middle;\n",
       "    }\n",
       "\n",
       "    .dataframe tbody tr th {\n",
       "        vertical-align: top;\n",
       "    }\n",
       "\n",
       "    .dataframe thead th {\n",
       "        text-align: right;\n",
       "    }\n",
       "</style>\n",
       "<table border=\"1\" class=\"dataframe\">\n",
       "  <thead>\n",
       "    <tr style=\"text-align: right;\">\n",
       "      <th></th>\n",
       "      <th>sepal length (cm)</th>\n",
       "      <th>sepal width (cm)</th>\n",
       "      <th>petal length (cm)</th>\n",
       "      <th>petal width (cm)</th>\n",
       "      <th>target</th>\n",
       "    </tr>\n",
       "  </thead>\n",
       "  <tbody>\n",
       "    <tr>\n",
       "      <th>count</th>\n",
       "      <td>150.000000</td>\n",
       "      <td>150.000000</td>\n",
       "      <td>150.000000</td>\n",
       "      <td>150.000000</td>\n",
       "      <td>150.000000</td>\n",
       "    </tr>\n",
       "    <tr>\n",
       "      <th>mean</th>\n",
       "      <td>5.843333</td>\n",
       "      <td>3.057333</td>\n",
       "      <td>3.758000</td>\n",
       "      <td>1.199333</td>\n",
       "      <td>1.000000</td>\n",
       "    </tr>\n",
       "    <tr>\n",
       "      <th>std</th>\n",
       "      <td>0.828066</td>\n",
       "      <td>0.435866</td>\n",
       "      <td>1.765298</td>\n",
       "      <td>0.762238</td>\n",
       "      <td>0.819232</td>\n",
       "    </tr>\n",
       "    <tr>\n",
       "      <th>min</th>\n",
       "      <td>4.300000</td>\n",
       "      <td>2.000000</td>\n",
       "      <td>1.000000</td>\n",
       "      <td>0.100000</td>\n",
       "      <td>0.000000</td>\n",
       "    </tr>\n",
       "    <tr>\n",
       "      <th>25%</th>\n",
       "      <td>5.100000</td>\n",
       "      <td>2.800000</td>\n",
       "      <td>1.600000</td>\n",
       "      <td>0.300000</td>\n",
       "      <td>0.000000</td>\n",
       "    </tr>\n",
       "    <tr>\n",
       "      <th>50%</th>\n",
       "      <td>5.800000</td>\n",
       "      <td>3.000000</td>\n",
       "      <td>4.350000</td>\n",
       "      <td>1.300000</td>\n",
       "      <td>1.000000</td>\n",
       "    </tr>\n",
       "    <tr>\n",
       "      <th>75%</th>\n",
       "      <td>6.400000</td>\n",
       "      <td>3.300000</td>\n",
       "      <td>5.100000</td>\n",
       "      <td>1.800000</td>\n",
       "      <td>2.000000</td>\n",
       "    </tr>\n",
       "    <tr>\n",
       "      <th>max</th>\n",
       "      <td>7.900000</td>\n",
       "      <td>4.400000</td>\n",
       "      <td>6.900000</td>\n",
       "      <td>2.500000</td>\n",
       "      <td>2.000000</td>\n",
       "    </tr>\n",
       "  </tbody>\n",
       "</table>\n",
       "</div>"
      ],
      "text/plain": [
       "       sepal length (cm)  sepal width (cm)  petal length (cm)  \\\n",
       "count         150.000000        150.000000         150.000000   \n",
       "mean            5.843333          3.057333           3.758000   \n",
       "std             0.828066          0.435866           1.765298   \n",
       "min             4.300000          2.000000           1.000000   \n",
       "25%             5.100000          2.800000           1.600000   \n",
       "50%             5.800000          3.000000           4.350000   \n",
       "75%             6.400000          3.300000           5.100000   \n",
       "max             7.900000          4.400000           6.900000   \n",
       "\n",
       "       petal width (cm)      target  \n",
       "count        150.000000  150.000000  \n",
       "mean           1.199333    1.000000  \n",
       "std            0.762238    0.819232  \n",
       "min            0.100000    0.000000  \n",
       "25%            0.300000    0.000000  \n",
       "50%            1.300000    1.000000  \n",
       "75%            1.800000    2.000000  \n",
       "max            2.500000    2.000000  "
      ]
     },
     "execution_count": 6,
     "metadata": {},
     "output_type": "execute_result"
    }
   ],
   "source": [
    "iris.describe()"
   ]
  },
  {
   "cell_type": "code",
   "execution_count": 7,
   "id": "60acf128",
   "metadata": {},
   "outputs": [],
   "source": [
    "X: pd.DataFrame = iris.drop(\"target\", axis=1)\n",
    "y: pd.Series = iris[\"target\"]"
   ]
  },
  {
   "cell_type": "code",
   "execution_count": 8,
   "id": "a0595b37",
   "metadata": {},
   "outputs": [],
   "source": [
    "X: np.ndarray = X.to_numpy()\n",
    "y: np.ndarray = y.to_numpy()"
   ]
  },
  {
   "cell_type": "code",
   "execution_count": 9,
   "id": "9f3886d5",
   "metadata": {},
   "outputs": [],
   "source": [
    "X_train, X_test, y_train, y_test = train_test_split(X, y, test_size=0.25)"
   ]
  },
  {
   "cell_type": "code",
   "execution_count": 10,
   "id": "52058236",
   "metadata": {},
   "outputs": [],
   "source": [
    "class Gini:    \n",
    "    def impurity(self, values: np.ndarray) -> float:\n",
    "        gini = 1 - np.sum((values / np.sum(values))**2)\n",
    "        return gini\n",
    "    \n",
    "    def loss(self, left_samples: int, left_gini: float, right_samples: int, right_gini: float) -> float:\n",
    "        loss = (left_samples*left_gini + right_samples*right_gini) / (left_samples + right_samples)\n",
    "        return loss"
   ]
  },
  {
   "cell_type": "code",
   "execution_count": 11,
   "id": "d40495d9",
   "metadata": {},
   "outputs": [],
   "source": [
    "class Node:\n",
    "    def __init__(self, gini: float = None, samples: int = None, values: np.ndarray = None, cls: int = None, feature: int = None, threshold: float = None):\n",
    "        self.feature = feature\n",
    "        self.threshold = threshold\n",
    "        self.gini = gini\n",
    "        self.samples = samples\n",
    "        self.values = values\n",
    "        self.cls = cls\n",
    "               \n",
    "        self.left: Node = None\n",
    "        self.right: Node = None\n",
    "        \n",
    "    def __repr__(self) -> str:\n",
    "        if self.feature is None:\n",
    "            return f'Leaf: samples={self.samples}, value = {self.values}, class = {self.cls}'\n",
    "        return f'X[{self.feature}] <= {self.threshold:.3f}, gini={self.gini:.3f}, samples={self.samples}, value = {self.values}, class = {self.cls}'"
   ]
  },
  {
   "cell_type": "code",
   "execution_count": 12,
   "id": "1b993782",
   "metadata": {},
   "outputs": [],
   "source": [
    "class DecisionTree:\n",
    "    def __init__(self, max_depth: int = None, max_features: int = None):\n",
    "        self.root: Node = Node()\n",
    "        self.classes: np.ndarray = None\n",
    "        self.gini = Gini()\n",
    "        self.max_depth = max_depth\n",
    "        self.max_features = max_features\n",
    "        \n",
    "    def create_best_split(self, parent_node: Node, X: np.ndarray, y: np.ndarray):\n",
    "        best_gini = parent_node.gini\n",
    "        n_features = X.shape[1]     \n",
    "        features = np.random.choice(n_features, self.max_features, replace=False)\n",
    "        n_classes = len(self.classes)\n",
    "        \n",
    "        for n in features:\n",
    "            sorted_ids = np.argsort(X[:, n])\n",
    "            thresholds = X[:, n][sorted_ids]\n",
    "            labels = y[sorted_ids]\n",
    "            \n",
    "            left_values = np.zeros(n_classes)\n",
    "            right_values = np.bincount(labels, minlength=n_classes)\n",
    "            left_samples = 0\n",
    "            right_samples = len(labels)\n",
    "            \n",
    "            for m in range(0, len(thresholds)-1):\n",
    "                cls = labels[m]\n",
    "                left_values[cls] += 1\n",
    "                right_values[cls] -= 1\n",
    "                left_samples += 1\n",
    "                right_samples -= 1\n",
    "            \n",
    "                if thresholds[m+1] == thresholds[m]:\n",
    "                    continue\n",
    "                \n",
    "                left_gini = self.gini.impurity(left_values)\n",
    "                right_gini = self.gini.impurity(right_values)\n",
    "                new_gini = self.gini.loss(left_samples, left_gini, right_samples, right_gini)\n",
    "                \n",
    "                if new_gini < best_gini:\n",
    "                    best_gini = new_gini\n",
    "                    parent_node.feature = n\n",
    "                    parent_node.threshold = (thresholds[m] + thresholds[m+1]) / 2\n",
    "                    parent_node.left = Node(left_gini, left_samples, left_values.copy(), self.classes[np.argmax(left_values)])\n",
    "                    parent_node.right = Node(right_gini, right_samples, right_values.copy(), self.classes[np.argmax(right_values)])\n",
    "                    \n",
    "    def create_nodes(self, parent_node: Node, X: np.ndarray, y: np.ndarray, max_depth: int):\n",
    "        if max_depth == 0 or len(np.unique(y)) == 1 or parent_node.samples <= 1:\n",
    "            return\n",
    "        \n",
    "        self.create_best_split(parent_node, X, y)\n",
    "\n",
    "        if parent_node.feature is None or parent_node.threshold is None:\n",
    "            return\n",
    "              \n",
    "        X_left = X[X[:, parent_node.feature] <= parent_node.threshold]\n",
    "        y_left = y[X[:, parent_node.feature] <= parent_node.threshold]\n",
    "        \n",
    "        X_right = X[X[:, parent_node.feature] > parent_node.threshold]\n",
    "        y_right = y[X[:, parent_node.feature] > parent_node.threshold]\n",
    "        \n",
    "        self.create_nodes(parent_node.left, X_left, y_left, None if max_depth is None else max_depth - 1)\n",
    "        self.create_nodes(parent_node.right, X_right, y_right, None if max_depth is None else max_depth - 1)\n",
    "                  \n",
    "    def build_tree(self, X: np.ndarray, y: np.ndarray):\n",
    "        self.classes, values = np.unique(y, return_counts=True)\n",
    "        samples = len(y)\n",
    "        gini = self.gini.impurity(values)\n",
    "        self.root = Node(gini, samples, values, self.classes[np.argmax(values)])\n",
    "        self.create_nodes(self.root, X, y, self.max_depth)\n",
    "    \n",
    "    def check_class(self, x: np.ndarray) -> int:\n",
    "        current_node = self.root\n",
    "\n",
    "        while current_node.feature is not None:\n",
    "            if x[current_node.feature] <= current_node.threshold:\n",
    "                current_node = current_node.left\n",
    "            else:\n",
    "                current_node = current_node.right\n",
    "   \n",
    "        return current_node.cls\n",
    "    \n",
    "    def pre_order_traversal(self, node: Node, depth: int):\n",
    "        if node is None:\n",
    "            return\n",
    "        indent = \"  \" * depth\n",
    "        print(indent, node)\n",
    "        self.pre_order_traversal(node.left, depth + 1)\n",
    "        self.pre_order_traversal(node.right, depth + 1)    \n",
    "        \n",
    "    def print_tree(self):\n",
    "        self.pre_order_traversal(self.root, 0) "
   ]
  },
  {
   "cell_type": "code",
   "execution_count": 13,
   "id": "5dd723bf",
   "metadata": {},
   "outputs": [],
   "source": [
    "class DecisionTreeClassifier(DecisionTree):\n",
    "    def __init__(self, max_depth: int = None, max_features = None):\n",
    "        super().__init__(max_features=max_features)\n",
    "        self.max_depth = max_depth\n",
    "    \n",
    "    def _resolve_max_features(self, X: np.ndarray) -> int:\n",
    "        n_features = X.shape[1]\n",
    "\n",
    "        if self.max_features is None:\n",
    "            return n_features\n",
    "        elif isinstance(self.max_features, str):\n",
    "            if self.max_features == \"sqrt\":\n",
    "                return max(1, int(np.sqrt(n_features)))\n",
    "            elif self.max_features == \"log2\":\n",
    "                return max(1, int(np.log2(n_features)))\n",
    "            else:\n",
    "                raise ValueError(f\"Unknown max_features string: {self.max_features}\")\n",
    "        elif isinstance(self.max_features, int):\n",
    "            return max(1, min(self.max_features, n_features))\n",
    "        elif isinstance(self.max_features, float):\n",
    "            if not (0.0 < self.max_features <= 1.0):\n",
    "                raise ValueError(\"If max_features is float, it must be in [0,1].\")\n",
    "            return max(1, int(self.max_features * n_features))\n",
    "        else:\n",
    "            raise TypeError(\"max_features must be None, int, float, or str {'sqrt', 'log2'}.\")\n",
    "           \n",
    "    def fit(self, X: np.ndarray, y: np.ndarray):\n",
    "        self.max_features = self._resolve_max_features(X)\n",
    "        self.build_tree(X, y)\n",
    "    \n",
    "    def predict(self, X: np.ndarray) -> np.ndarray:\n",
    "        y_pred = np.array([self.check_class(x) for x in X])\n",
    "        return y_pred"
   ]
  },
  {
   "cell_type": "code",
   "execution_count": 14,
   "id": "b50e21a4",
   "metadata": {},
   "outputs": [],
   "source": [
    "model = DecisionTreeClassifier(max_depth=3)"
   ]
  },
  {
   "cell_type": "code",
   "execution_count": 15,
   "id": "cbb3489e",
   "metadata": {},
   "outputs": [],
   "source": [
    "model.fit(X_train, y_train)"
   ]
  },
  {
   "cell_type": "code",
   "execution_count": 16,
   "id": "95d4061f",
   "metadata": {},
   "outputs": [
    {
     "name": "stdout",
     "output_type": "stream",
     "text": [
      " X[2] <= 2.600, gini=0.665, samples=112, value = [34 39 39], class = 1\n",
      "   Leaf: samples=34, value = [34.  0.  0.], class = 0\n",
      "   X[3] <= 1.750, gini=0.500, samples=78, value = [ 0 39 39], class = 1\n",
      "     X[2] <= 5.350, gini=0.136, samples=41, value = [ 0. 38.  3.], class = 1\n",
      "       Leaf: samples=39, value = [ 0. 38.  1.], class = 1\n",
      "       Leaf: samples=2, value = [0 0 2], class = 2\n",
      "     X[2] <= 4.850, gini=0.053, samples=37, value = [ 0  1 36], class = 2\n",
      "       Leaf: samples=2, value = [0. 1. 1.], class = 1\n",
      "       Leaf: samples=35, value = [ 0  0 35], class = 2\n"
     ]
    }
   ],
   "source": [
    "model.print_tree()"
   ]
  },
  {
   "cell_type": "code",
   "execution_count": 17,
   "id": "8f4967d9",
   "metadata": {},
   "outputs": [],
   "source": [
    "y_pred = model.predict(X_test)"
   ]
  },
  {
   "cell_type": "code",
   "execution_count": 18,
   "id": "36817957",
   "metadata": {},
   "outputs": [
    {
     "name": "stdout",
     "output_type": "stream",
     "text": [
      "              precision    recall  f1-score   support\n",
      "\n",
      "      Setosa       1.00      1.00      1.00        16\n",
      "  Versicolor       0.79      1.00      0.88        11\n",
      "   Virginica       1.00      0.73      0.84        11\n",
      "\n",
      "    accuracy                           0.92        38\n",
      "   macro avg       0.93      0.91      0.91        38\n",
      "weighted avg       0.94      0.92      0.92        38\n",
      "\n"
     ]
    }
   ],
   "source": [
    "target_names = ['Setosa', 'Versicolor', 'Virginica']\n",
    "print(classification_report(y_test, y_pred, target_names=target_names))"
   ]
  }
 ],
 "metadata": {
  "kernelspec": {
   "display_name": ".venv",
   "language": "python",
   "name": "python3"
  },
  "language_info": {
   "codemirror_mode": {
    "name": "ipython",
    "version": 3
   },
   "file_extension": ".py",
   "mimetype": "text/x-python",
   "name": "python",
   "nbconvert_exporter": "python",
   "pygments_lexer": "ipython3",
   "version": "3.12.8"
  }
 },
 "nbformat": 4,
 "nbformat_minor": 5
}
