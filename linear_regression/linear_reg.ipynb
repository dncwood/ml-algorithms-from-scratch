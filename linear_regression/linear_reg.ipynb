{
 "cells": [
  {
   "cell_type": "markdown",
   "id": "093ba680",
   "metadata": {},
   "source": [
    "## Linear Regression Theory\n",
    "\n",
    "### Supervised Learning\n",
    "\n",
    "Linear regression is a **supervised learning algorithm**. In supervised learning, the algorithm is trained on a dataset that includes both input features and corresponding output labels or target values.\n",
    "\n",
    "More specifically, supervised learning involves observing several examples of a random feature vector $\\mathbf{x}$ along with an associated target value or vector $\\mathbf{y}$, and learning a mapping from $\\mathbf{x}$ to $\\mathbf{y}$. The goal is to enable the model to predict the target $\\mathbf{y}$ for new, unseen instances of $\\mathbf{x}$.\n",
    "\n",
    "The term *supervised* arises from the idea that the correct output $\\mathbf{y}$ is provided by an instructor or a \"teacher\", guiding the learning process. This guidance helps the machine learning model understand what output it should produce for a given input.\n",
    "\n",
    "### Linear Regression Model\n",
    "\n",
    "Linear regression is used to solve a **regression problem**. The goal is to build a system that can take a feature vector $\\mathbf{x} \\in \\mathbb{R}^n$ as input (independent variables) and predict a scalar value $y \\in \\mathbb{R}$ as output (dependent variable). The output $y$ is **continuous**. \n",
    "\n",
    "Linear regression flows from a few simple assumptions. First, we assume that the relationship between features $\\mathbf{x}$ and target $y$ is approximately linear — specifically, that the **conditional mean** $E[Y|X=\\mathbf{x}]$ can be expressed as a weighted sum of the input features. This allows for the fact that individual target values may deviate from this expected value due to **observation noise**. We further assume that this noise is well-behaved and follows a Gaussian distribution. \n",
    "\n",
    "We use $m$ to denote the number of examples in our dataset. Superscripts index samples, while subscripts refer to individual feature dimensions. That is, $\\mathbf{x}^{(i)}$ denotes the $i$-th sample and $x^{(i)}_{j}$ denotes its $j$-th feature.\n",
    "\n",
    "Under these assumptions, the model describes how the features can be transformed into an estimate of the target value. The linearity assumption means that the expected value of the output can be modeled as:\n",
    "\n",
    "$$\n",
    "h(x) = \\theta_0 + \\sum_{j=1}^{n} \\theta_i x_j\n",
    "$$\n",
    "\n",
    "Here:\n",
    "- $h(x)$ is the predicted output (also referred to as the **hypothesis**),\n",
    "- $\\theta_0$ is the **intercept** term (also called the **bias**),\n",
    "- $\\theta_j$ are the **coefficients** or **weights**, and\n",
    "- $x_j$ are the input features.\n",
    "\n",
    "If there is only **one feature**, the model is called **simple linear regression**. If there are **multiple features**, it is referred to as **multiple linear regression**.\n",
    "\n",
    "The parameters $\\theta_j$ control how the input features affect the output prediction. Each coefficient $\\theta_j$ determines the weight or contribution of the corresponding feature $x_j$. The term $\\theta_0$ (bias) allows the model to make predictions that do not necessarily pass through the origin.\n",
    "\n",
    "This **bias parameter** is called so because it represents the model’s prediction in the absence of any input, i.e., when all features are zero. This notion of \"bias\" is different from **statistical bias**.\n",
    "\n",
    "With this terminology, the function is often rewritten as:\n",
    "\n",
    "$$\n",
    "\\hat{y} = \\sum_{j=1}^{n} w_j x_j + b\n",
    "$$\n",
    "\n",
    "Or more compactly via the dot product between vector $\\mathbf{w}$ and vector $\\mathbf{x}$:\n",
    "\n",
    "$$\n",
    "\\hat{y} = \\mathbf{w}^T \\mathbf{x} + b\n",
    "$$\n",
    "\n",
    "Technically, because of the bias term $b$, this is known as an **affine function**, not a purely linear function. However, in machine learning, the term **linear function** is commonly used to describe it.\n",
    "\n",
    "### Loss and Cost Functions\n",
    "\n",
    "To successfully predict the target value $y$ from input $\\mathbf{x}$, we need to choose the parameters such that the predicted value $\\hat{y}$ closely matches $y$.\n",
    "\n",
    "To do this, we first need a way to **measure the fitness** of the model. In linear regression, a common way to measure how the model is fitted to the data is by using the **mean squared error (MSE)** as a **cost function**:\n",
    "\n",
    "$$\n",
    "J(\\mathbf{w}, b) = \\frac{1}{m} \\cdot \\frac{1}{2} \\sum_{i=1}^{m} \\left( \\hat{y}^{(i)} - y^{(i)} \\right)^2\n",
    "$$\n",
    "\n",
    "This cost function measures the average squared difference between predicted values $\\hat{y}^{(i)}$ and actual target values $y^{(i)}$ over the dataset.\n",
    "\n",
    "Intuitively:\n",
    "- The error becomes **zero** when $\\hat{y} = y$.\n",
    "- The error **increases exponentially** as the Euclidean distance between $\\hat{y}$ and $y$ increases.\n",
    "- Larger differences between predicted and actual values result in **even larger contributions to the total error** due to the squared term.\n",
    "\n",
    "This quadratic nature encourages the model to avoid large errors, although it can also lead to **excessive sensitivity to outliers or anomalous data**.\n",
    "\n",
    "> 💡 **Note:** The terms *cost function* and *loss function* are often used interchangeably, but they have different scopes:\n",
    "> - A **loss function** measures the error for a **single training example**.\n",
    "> - A **cost function** is typically the **average of the loss function** over the entire training set.\n",
    "\n",
    "The corresponding **loss function** (also known as the **squared error loss**) is defined as:\n",
    "\n",
    "$$\n",
    "L(\\mathbf{w}, b) = \\frac{1}{2} \\left( \\hat{y}^{(i)} - y^{(i)} \\right)^2\n",
    "$$\n",
    "\n",
    "The factor $\\frac{1}{2}$ is included for **mathematical convenience** — it simplifies the derivative during optimization but does not affect the outcome of training.\n",
    "\n",
    "Since the loss function quantifies the performance of the model, it is intuitive to **minimize** it to achieve better predictions. Therefore, the training process aims to find the parameters $w$ and $b$ that **minimize the loss**:\n",
    "\n",
    "$$\n",
    "\\arg\\min_{\\mathbf{w}, b} L(\\mathbf{w}, b)\n",
    "$$\n",
    "\n",
    "For this optimization to be feasible, the loss function must be **differentiable**, allowing us to use gradient-based optimization methods.\n",
    "\n",
    "#### Why squared error?\n",
    "\n",
    "Linear regression also has a probabilistic interpretation that naturally motivates the use of the squared error as a loss function.\n",
    "\n",
    "As previously discussed, linear regression flows from a few assumptions:\n",
    "\n",
    "$$\n",
    "y = \\mathbf{w}^T \\mathbf{x} + b + \\varepsilon\n",
    "$$\n",
    "\n",
    "Here, $\\varepsilon$ is an error term that accounts for unmodeled effects and random noise. It is assumed to follow a Gaussian distribution:\n",
    "\n",
    "$$\n",
    "\\varepsilon \\sim \\mathcal{N}(0, \\sigma^2)\n",
    "$$\n",
    "\n",
    "Because $\\varepsilon$ is additive, zero-mean, and Gaussian, this implies that the conditional distribution of $y$ given $\\mathbf{x}$ is also Gaussian with a mean that is shifted from 0 to $\\mathbf{w}^T x + b$:\n",
    "\n",
    "$$\n",
    "P(y \\mid \\mathbf{x}; \\mathbf{w}, b) = \\mathcal{N}(y \\mid \\mathbf{w}^T \\mathbf{x} + b, \\sigma^2)\n",
    "$$\n",
    "\n",
    "Since we assume that the datapoints are independent and identically distributed (i.i.d.), the joint probability of the data is a product of the individual probabilities. It also can be described as the **likelihood** of the parameters $\\mathbf{w}$ and $b$:\n",
    "\n",
    "$$\n",
    "\\mathcal{L}(\\mathbf{w}, b) = P(\\mathbf{y} \\mid \\mathbf{X}; \\mathbf{w}, b) = \\prod_{i=1}^m \\mathcal{N}(y^{(i)} \\mid \\mathbf{w}^T \\mathbf{x}^{(i)} + b, \\sigma^2)\n",
    "$$\n",
    "\n",
    "A well-established method for parameter estimation in statistics is **Maximum Likelihood Estimation (MLE)**. In MLE, we select the parameters $\\mathbf{w}$ and $b$ that maximize the likelihood function:\n",
    "\n",
    "$$\n",
    "\\arg\\max_{\\mathbf{w}, b} \\prod_{i=1}^m\\frac{1}{\\sqrt{2\\pi\\sigma^2}} \\exp\\left( -\\frac{(y^{(i)} - \\mathbf{w}^T \\mathbf{x}^{(i)} - b)^2}{2\\sigma^2} \\right)\n",
    "$$\n",
    "\n",
    "Since working with the product of many probabilities can be numerically unstable and mathematically unwieldy, we usually take the logarithm of the likelihood function. This does not affect its arg max (because the logarithm is a monotonic function), and conveniently transforms the product into a sum:\n",
    "\n",
    "$$\n",
    "\\log \\mathcal{L}(\\mathbf{w}, b) = \\sum_{i=1}^m \\log \\left( \\frac{1}{\\sqrt{2\\pi\\sigma^2}} \\exp\\left( -\\frac{(y^{(i)} - \\mathbf{w}^T \\mathbf{x}^{(i)} - b)^2}{2\\sigma^2} \\right) \\right)\n",
    "$$\n",
    "\n",
    "Simplifying this, we get:\n",
    "\n",
    "$$\n",
    "\\log \\mathcal{L}(\\mathbf{w}, b) = -\\frac{m}{2} \\log(2\\pi\\sigma^2) - \\frac{1}{2\\sigma^2} \\sum_{i=1}^m (y^{(i)} - \\mathbf{w}^T \\mathbf{x}^{(i)} - b)^2\n",
    "$$\n",
    "\n",
    "The first term is a constant with respect to the parameters, and $\\sigma^2$ in the second term is also constant during optimization. The remaining term is identical to our squared error loss function. It follows that maximizing the log-likelihood of a linear model under the assumption of additive Guassian noise is equivalent to minimizing the **mean squared error**. To follow the standard convention of minimizing a loss function in machine learning, we often minimize the **negative log-likelihood**, which is mathematically equivalent to maximizing the log-likelihood. Note the changing of the sign:\n",
    "\n",
    "$$\n",
    "\\arg\\min_{\\mathbf{w}, b} \\frac{1}{2} (y^{(i)} - \\hat{y}^{(i)})^2\n",
    "$$\n",
    "\n",
    "> **Note:** Do not get confused by the different order of $y$ and $\\hat{y}$. The function $(y - \\hat{y})^2$ is equal to $(\\hat{y} - y)^2$ because the result of squaring is always positive. This means the loss is unchanged. The gradient expression will look different depending on the order, but once simplified, it yields the same result.\n",
    "\n",
    "We will explore MLE in more depth in a future notebook.\n",
    "\n",
    "### Gradient Descent\n",
    "\n",
    "One effective method for finding the optimal parameters in linear regression is the **gradient descent algorithm**. Gradient descent is a **first-order optimization algorithm** and is widely used in many machine learning models.\n",
    "\n",
    "#### What Is the Gradient?\n",
    "\n",
    "The **gradient** is a generalization of the derivative for functions that depend on **one** or **multiple variables**. To compute the gradient of the loss function with respect to the parameters, we calculate the **partial derivatives** of the function with respect to each parameter — varying one variable at a time while keeping the others constant.\n",
    "\n",
    "The gradient is a **vector** composed of these partial derivatives:\n",
    "\n",
    "$$ \n",
    "\\nabla L(w, b) = \\left[ \\frac{\\partial L}{\\partial w_1}, \\frac{\\partial L}{\\partial w_2}, \\dots, \\frac{\\partial L}{\\partial w_n}, \\frac{\\partial L}{\\partial b} \\right]^T\n",
    "$$\n",
    "\n",
    "This gradient vector points in the direction of the **steepest ascent** of the loss function. However, since our goal is to **minimize** the loss, we move in the direction **opposite** to the gradient.\n",
    "\n",
    "#### Gradient Descent Algorithm\n",
    "\n",
    "To minimize the loss function using gradient descent:\n",
    "1. Start with random initial values for the parameters $\\mathbf{w}$ and $b$ (commonly initialized as zeros or sampled from a Gaussian distribution).\n",
    "2. Iteratively update the parameters by taking small steps in the opposite direction of the gradient:\n",
    "\n",
    "#### Intuition\n",
    "\n",
    "You can imagine the loss function as a surface in high-dimensional space. The optimization process is like a ball placed somewhere on this surface (representing the current parameter values). When released, the ball **rolls downhill** following the path of **steepest descent** until it reaches a **minimum**.\n",
    "\n",
    "#### Batch Gradient Descent\n",
    "\n",
    "A recurring challenge in machine learning is the trade-off between training efficiency and generalization. Large training sets are often essential for good generalization performance. However, computing the gradient on such large datasets can be extremely time-consuming.\n",
    "\n",
    "As previously discussed, the cost function can be decomposed as a **sum over individual loss functions** for each training example. Standard gradient descent performs optimization using the **entire training set**:\n",
    "\n",
    "$$\n",
    "g = \\frac{1}{m} \\sum_{i=1}^{m} \\nabla L(\\mathbf{w}, b)\n",
    "$$\n",
    "\n",
    "This means we must iterate over the entire dataset before updating the parameters — even if that update could have a large impact. The situation becomes worse when the training data contains redundancy. The benefit of a full update is limited.\n",
    "\n",
    "#### Stochastic Gradient Descent (SGD)\n",
    "\n",
    "To overcome this inefficiency, we can use **stochastic gradient descent (SGD)**. The key insight behind SGD is recognizing that the gradient of the cost function is an **expectation**, and expectations can be estimated using only a **subset** of the data.\n",
    "\n",
    "In its most extreme form, SGD performs updates based on a **single training example at a time**. While this introduces noise, it still provides a usable approximation of the full gradient. In fact, this noisy update can act as a form of **regularization**, helping to avoid overfitting.\n",
    "\n",
    "However, updating based on a single example has its drawbacks:\n",
    "- It can be computationally inefficient. Processors handle **matrix–vector operations** far more efficiently than repeated **vector–vector operations**.\n",
    "- Excessive noise in the gradient estimates can hinder convergence stability.\n",
    "\n",
    "#### Mini-Batch SGD\n",
    "\n",
    "The practical solution to these problems is **mini-batch stochastic gradient descent**. Instead of using the full dataset or just one sample, we use a **mini-batch** of samples:\n",
    "\n",
    "- Let $B = \\{\\mathbf{x}^{(1)}, \\mathbf{x}^{(2)}, \\dots, \\mathbf{x}^{(m')}\\}$ be a mini-batch drawn uniformly from the training set.\n",
    "- $m'$ is the **mini-batch size**, typically fixed as the training set grows.\n",
    "- Good values for $m'$ are often in the range **32 to 256**, preferably a multiple of a large power of 2.\n",
    "\n",
    "The mini-batch estimate of the gradient is:\n",
    "\n",
    "$$\n",
    "g = \\frac{1}{m'} \\sum_{i=1}^{m'} \\nabla L(\\mathbf{w}, b)\n",
    "$$\n",
    "\n",
    "#### Computing the Gradient for Squared Error Loss\n",
    "\n",
    "Given the loss function:\n",
    "\n",
    "$$\n",
    "L(\\mathbf{w}, b) = \\frac{1}{2}(\\mathbf{w}^T  \\mathbf{x}^{(i)} + b - y^{(i)})^2\n",
    "$$\n",
    "\n",
    "The gradients are computed using the **chain rule**:\n",
    "\n",
    "- Gradient with respect to $w$:\n",
    "\n",
    "$$\n",
    "\\nabla_{\\mathbf{w}} L = (\\mathbf{w}^T  \\mathbf{x}^{(i)} + b - y^{(i)}) \\mathbf{x}^{(i)}\n",
    "$$\n",
    "\n",
    "- Gradient with respect to $b$:\n",
    "\n",
    "$$\n",
    "\\nabla_b L = (\\mathbf{w}^T  \\mathbf{x}^{(i)} + b - y^{(i)})\n",
    "$$\n",
    "\n",
    "- The average gradients over the mini-batch:\n",
    "\n",
    "$$\n",
    "g_{\\mathbf{w}} = \\frac{1}{m'} \\sum_{i=1}^{m'} (\\mathbf{w}^T  \\mathbf{x}^{(i)} + b - y^{(i)}) \\mathbf{x}^{(i)}\n",
    "$$\n",
    "\n",
    "$$\n",
    "g_b = \\frac{1}{m'} \\sum_{i=1}^{m'} (\\mathbf{w}^T  \\mathbf{x}^{(i)} + b - y^{(i)})\n",
    "$$\n",
    "\n",
    "#### Parameter Update Rule\n",
    "\n",
    "To update the model parameters, we multiply the gradients by a small positive scalar $\\eta$, called the **learning rate**, and subtract the result from the current values:\n",
    "\n",
    "$$\n",
    "\\mathbf{w} := \\mathbf{w} - \\eta g_{\\mathbf{w}}, \\quad b := b - \\eta g_b\n",
    "$$\n",
    "\n",
    "### Training Procedure and Evaluation\n",
    "\n",
    "Training a linear regression model typically involves multiple **epochs**.\n",
    "\n",
    "- An **epoch** refers to a full pass over the entire training dataset.\n",
    "- The dataset is divided into **mini-batches**, and each mini-batch is used to compute gradients and update the model parameters.\n",
    "- To monitor cost of the model, we compute the **average loss per epoch**, which requires normalizing the accumulated mini-batch losses by the number of mini-batches.\n",
    "\n",
    "After training for a **predetermined number of epochs**, or until a **stopping criterion** (like convergence or early stopping) is met, we record the learned parameters of the model.\n",
    "\n",
    "#### Making Predictions\n",
    "\n",
    "Once the model is trained, it can be used to make predictions on **new, unseen data**. However, to evaluate how well the model generalizes beyond the data it was trained on, we need to test it on a **separate dataset**.\n",
    "\n",
    "#### Dataset Splitting\n",
    "\n",
    "To accurately evaluate the model’s quality, the dataset is typically split into:\n",
    "\n",
    "- **Training set**: Used to train the model and find optimal parameters.\n",
    "- **Test set**: Held back during training. It is only used after training to evaluate the model’s generalization performance.\n",
    "\n",
    "In practice, it is also common to introduce a third dataset:\n",
    "\n",
    "- **Validation set**: A portion of the training data that is set aside and not used directly for updating model parameters.\n",
    "  - The validation set is used **between epochs** to monitor the model's performance and make decisions such as adjusting hyperparameters or implementing early stopping.\n",
    "\n",
    "This is especially useful when training is time-consuming, as it allows for **on-the-fly adjustments** to improve model performance and efficiency.\n",
    "\n",
    "#### Evaluation Metrics\n",
    "\n",
    "As already mentioned, after training a machine learning model, it is important to evaluate its performance to understand how well it generalizes to unseen data. For regression tasks, there are several standard metrics used to assess the accuracy and reliability of the model’s predictions. These metrics compare the predicted values $\\hat{y}$ to the true target values $y$ and quantify the prediction error in different ways.\n",
    "\n",
    "One commonly used metric is the **Mean Absolute Error (MAE)**. It measures the average magnitude of the errors in a set of predictions, without considering their direction. The MAE is defined as:\n",
    "\n",
    "$$\n",
    "\\text{MAE} = \\frac{1}{m} \\sum_{i=1}^{m} \\left| \\hat{y}^{(i)} - y^{(i)} \\right|\n",
    "$$\n",
    "\n",
    "This metric is easy to interpret and gives equal weight to all errors, making it robust to outliers compared to squared-error-based metrics.\n",
    "\n",
    "Another widely used metric is the **Mean Squared Error (MSE)**. It is defined as:\n",
    "\n",
    "$$\n",
    "\\text{MSE} = \\frac{1}{m} \\sum_{i=1}^{m} \\left( \\hat{y}^{(i)} - y^{(i)} \\right)^2\n",
    "$$\n",
    "\n",
    "The MSE penalizes larger errors more heavily due to the squaring operation. This makes it sensitive to outliers and particularly useful when large errors are especially undesirable.\n",
    "\n",
    "To make the error more interpretable in terms of the original units of the target variable, the **Root Mean Squared Error (RMSE)** is often used. It is simply the square root of the MSE:\n",
    "\n",
    "$$\n",
    "\\text{RMSE} = \\sqrt{\\text{MSE}} = \\sqrt{ \\frac{1}{m} \\sum_{i=1}^{m} \\left( \\hat{y}^{(i)} - y^{(i)} \\right)^2 }\n",
    "$$\n",
    "\n",
    "The RMSE provides a measure of the typical size of the prediction errors and is more intuitive to interpret in practice.\n",
    "\n",
    "Finally, the **Coefficient of Determination**, commonly referred to as **$R^2$ score**, measures how well the predicted values explain the variability of the target values. It is defined as:\n",
    "\n",
    "$$\n",
    "R^2 = 1 - \\frac{\\sum_{i=1}^{m} \\left( \\hat{y}^{(i)} - y^{(i)} \\right)^2}{\\sum_{i=1}^{m} \\left( y^{(i)} - \\bar{y} \\right)^2}\n",
    "$$\n",
    "\n",
    "Here, $\\bar{y}$ denotes the mean of the true target values. The $R^2$ score ranges from $-\\infty$ to $1$, where a score of $1$ indicates perfect predictions and a score of $0$ indicates that the model performs no better than simply predicting the mean of the target values. Negative values indicate that the model performs worse than this naive baseline.\n",
    "\n",
    "Together, these metrics offer complementary views on model performance, and it is common practice to report multiple metrics to get a more complete picture of how well a regression model is performing.\n",
    "\n"
   ]
  },
  {
   "cell_type": "markdown",
   "id": "23ba3d0e",
   "metadata": {},
   "source": [
    "## Linear regression implementation from scratch\n"
   ]
  },
  {
   "cell_type": "markdown",
   "id": "2da0a3d2",
   "metadata": {},
   "source": [
    "Required imports:"
   ]
  },
  {
   "cell_type": "code",
   "execution_count": 170,
   "id": "4375ab66",
   "metadata": {},
   "outputs": [],
   "source": [
    "import numpy as np\n",
    "import pandas as pd\n",
    "import seaborn as sns\n",
    "import matplotlib.pyplot as plt\n",
    "from sklearn.datasets import fetch_california_housing"
   ]
  },
  {
   "cell_type": "markdown",
   "id": "a7b933b0",
   "metadata": {},
   "source": [
    "For our implementation, we use the **California Housing dataset**, a well-known benchmark dataset commonly used for regression problems. It is particularly well-suited for training and evaluating **multiple linear regression** models, as it includes a variety of continuous input features related to housing data.\n",
    "\n",
    "We can load the dataset directly using `scikit-learn`'s built-in utility function. To learn more about the dataset's structure, feature descriptions, and usage context, you can print the .DESCR attribute, which contains a detailed description of the dataset."
   ]
  },
  {
   "cell_type": "code",
   "execution_count": 171,
   "id": "39246626",
   "metadata": {},
   "outputs": [
    {
     "name": "stdout",
     "output_type": "stream",
     "text": [
      ".. _california_housing_dataset:\n",
      "\n",
      "California Housing dataset\n",
      "--------------------------\n",
      "\n",
      "**Data Set Characteristics:**\n",
      "\n",
      ":Number of Instances: 20640\n",
      "\n",
      ":Number of Attributes: 8 numeric, predictive attributes and the target\n",
      "\n",
      ":Attribute Information:\n",
      "    - MedInc        median income in block group\n",
      "    - HouseAge      median house age in block group\n",
      "    - AveRooms      average number of rooms per household\n",
      "    - AveBedrms     average number of bedrooms per household\n",
      "    - Population    block group population\n",
      "    - AveOccup      average number of household members\n",
      "    - Latitude      block group latitude\n",
      "    - Longitude     block group longitude\n",
      "\n",
      ":Missing Attribute Values: None\n",
      "\n",
      "This dataset was obtained from the StatLib repository.\n",
      "https://www.dcc.fc.up.pt/~ltorgo/Regression/cal_housing.html\n",
      "\n",
      "The target variable is the median house value for California districts,\n",
      "expressed in hundreds of thousands of dollars ($100,000).\n",
      "\n",
      "This dataset was derived from the 1990 U.S. census, using one row per census\n",
      "block group. A block group is the smallest geographical unit for which the U.S.\n",
      "Census Bureau publishes sample data (a block group typically has a population\n",
      "of 600 to 3,000 people).\n",
      "\n",
      "A household is a group of people residing within a home. Since the average\n",
      "number of rooms and bedrooms in this dataset are provided per household, these\n",
      "columns may take surprisingly large values for block groups with few households\n",
      "and many empty houses, such as vacation resorts.\n",
      "\n",
      "It can be downloaded/loaded using the\n",
      ":func:`sklearn.datasets.fetch_california_housing` function.\n",
      "\n",
      ".. rubric:: References\n",
      "\n",
      "- Pace, R. Kelley and Ronald Barry, Sparse Spatial Autoregressions,\n",
      "  Statistics and Probability Letters, 33 (1997) 291-297\n",
      "\n"
     ]
    }
   ],
   "source": [
    "housing_sklearn = fetch_california_housing(as_frame=True)\n",
    "print(housing_sklearn.DESCR)"
   ]
  },
  {
   "cell_type": "markdown",
   "id": "5b2d7b9d",
   "metadata": {},
   "source": [
    "We load the dataset into a **pandas DataFrame** to take advantage of pandas' powerful data manipulation and exploration capabilities."
   ]
  },
  {
   "cell_type": "code",
   "execution_count": 172,
   "id": "f847f3e1",
   "metadata": {},
   "outputs": [
    {
     "data": {
      "application/vnd.microsoft.datawrangler.viewer.v0+json": {
       "columns": [
        {
         "name": "index",
         "rawType": "int64",
         "type": "integer"
        },
        {
         "name": "MedInc",
         "rawType": "float64",
         "type": "float"
        },
        {
         "name": "HouseAge",
         "rawType": "float64",
         "type": "float"
        },
        {
         "name": "AveRooms",
         "rawType": "float64",
         "type": "float"
        },
        {
         "name": "AveBedrms",
         "rawType": "float64",
         "type": "float"
        },
        {
         "name": "Population",
         "rawType": "float64",
         "type": "float"
        },
        {
         "name": "AveOccup",
         "rawType": "float64",
         "type": "float"
        },
        {
         "name": "Latitude",
         "rawType": "float64",
         "type": "float"
        },
        {
         "name": "Longitude",
         "rawType": "float64",
         "type": "float"
        },
        {
         "name": "MedHouseVal",
         "rawType": "float64",
         "type": "float"
        }
       ],
       "ref": "4598e269-36e6-42c3-9ef2-459d9da56dd0",
       "rows": [
        [
         "0",
         "8.3252",
         "41.0",
         "6.984126984126984",
         "1.0238095238095237",
         "322.0",
         "2.5555555555555554",
         "37.88",
         "-122.23",
         "4.526"
        ],
        [
         "1",
         "8.3014",
         "21.0",
         "6.238137082601054",
         "0.9718804920913884",
         "2401.0",
         "2.109841827768014",
         "37.86",
         "-122.22",
         "3.585"
        ],
        [
         "2",
         "7.2574",
         "52.0",
         "8.288135593220339",
         "1.073446327683616",
         "496.0",
         "2.8022598870056497",
         "37.85",
         "-122.24",
         "3.521"
        ],
        [
         "3",
         "5.6431",
         "52.0",
         "5.8173515981735155",
         "1.0730593607305936",
         "558.0",
         "2.547945205479452",
         "37.85",
         "-122.25",
         "3.413"
        ],
        [
         "4",
         "3.8462",
         "52.0",
         "6.281853281853282",
         "1.0810810810810811",
         "565.0",
         "2.1814671814671813",
         "37.85",
         "-122.25",
         "3.422"
        ]
       ],
       "shape": {
        "columns": 9,
        "rows": 5
       }
      },
      "text/html": [
       "<div>\n",
       "<style scoped>\n",
       "    .dataframe tbody tr th:only-of-type {\n",
       "        vertical-align: middle;\n",
       "    }\n",
       "\n",
       "    .dataframe tbody tr th {\n",
       "        vertical-align: top;\n",
       "    }\n",
       "\n",
       "    .dataframe thead th {\n",
       "        text-align: right;\n",
       "    }\n",
       "</style>\n",
       "<table border=\"1\" class=\"dataframe\">\n",
       "  <thead>\n",
       "    <tr style=\"text-align: right;\">\n",
       "      <th></th>\n",
       "      <th>MedInc</th>\n",
       "      <th>HouseAge</th>\n",
       "      <th>AveRooms</th>\n",
       "      <th>AveBedrms</th>\n",
       "      <th>Population</th>\n",
       "      <th>AveOccup</th>\n",
       "      <th>Latitude</th>\n",
       "      <th>Longitude</th>\n",
       "      <th>MedHouseVal</th>\n",
       "    </tr>\n",
       "  </thead>\n",
       "  <tbody>\n",
       "    <tr>\n",
       "      <th>0</th>\n",
       "      <td>8.3252</td>\n",
       "      <td>41.0</td>\n",
       "      <td>6.984127</td>\n",
       "      <td>1.023810</td>\n",
       "      <td>322.0</td>\n",
       "      <td>2.555556</td>\n",
       "      <td>37.88</td>\n",
       "      <td>-122.23</td>\n",
       "      <td>4.526</td>\n",
       "    </tr>\n",
       "    <tr>\n",
       "      <th>1</th>\n",
       "      <td>8.3014</td>\n",
       "      <td>21.0</td>\n",
       "      <td>6.238137</td>\n",
       "      <td>0.971880</td>\n",
       "      <td>2401.0</td>\n",
       "      <td>2.109842</td>\n",
       "      <td>37.86</td>\n",
       "      <td>-122.22</td>\n",
       "      <td>3.585</td>\n",
       "    </tr>\n",
       "    <tr>\n",
       "      <th>2</th>\n",
       "      <td>7.2574</td>\n",
       "      <td>52.0</td>\n",
       "      <td>8.288136</td>\n",
       "      <td>1.073446</td>\n",
       "      <td>496.0</td>\n",
       "      <td>2.802260</td>\n",
       "      <td>37.85</td>\n",
       "      <td>-122.24</td>\n",
       "      <td>3.521</td>\n",
       "    </tr>\n",
       "    <tr>\n",
       "      <th>3</th>\n",
       "      <td>5.6431</td>\n",
       "      <td>52.0</td>\n",
       "      <td>5.817352</td>\n",
       "      <td>1.073059</td>\n",
       "      <td>558.0</td>\n",
       "      <td>2.547945</td>\n",
       "      <td>37.85</td>\n",
       "      <td>-122.25</td>\n",
       "      <td>3.413</td>\n",
       "    </tr>\n",
       "    <tr>\n",
       "      <th>4</th>\n",
       "      <td>3.8462</td>\n",
       "      <td>52.0</td>\n",
       "      <td>6.281853</td>\n",
       "      <td>1.081081</td>\n",
       "      <td>565.0</td>\n",
       "      <td>2.181467</td>\n",
       "      <td>37.85</td>\n",
       "      <td>-122.25</td>\n",
       "      <td>3.422</td>\n",
       "    </tr>\n",
       "  </tbody>\n",
       "</table>\n",
       "</div>"
      ],
      "text/plain": [
       "   MedInc  HouseAge  AveRooms  AveBedrms  Population  AveOccup  Latitude  \\\n",
       "0  8.3252      41.0  6.984127   1.023810       322.0  2.555556     37.88   \n",
       "1  8.3014      21.0  6.238137   0.971880      2401.0  2.109842     37.86   \n",
       "2  7.2574      52.0  8.288136   1.073446       496.0  2.802260     37.85   \n",
       "3  5.6431      52.0  5.817352   1.073059       558.0  2.547945     37.85   \n",
       "4  3.8462      52.0  6.281853   1.081081       565.0  2.181467     37.85   \n",
       "\n",
       "   Longitude  MedHouseVal  \n",
       "0    -122.23        4.526  \n",
       "1    -122.22        3.585  \n",
       "2    -122.24        3.521  \n",
       "3    -122.25        3.413  \n",
       "4    -122.25        3.422  "
      ]
     },
     "execution_count": 172,
     "metadata": {},
     "output_type": "execute_result"
    }
   ],
   "source": [
    "housing: pd.DataFrame= housing_sklearn.frame\n",
    "housing.head()"
   ]
  },
  {
   "cell_type": "markdown",
   "id": "981bf665",
   "metadata": {},
   "source": [
    "Since all features in the dataset are numerical, there is no need for data type conversion. Additionally, we verify that there are no missing values in the dataset."
   ]
  },
  {
   "cell_type": "code",
   "execution_count": 173,
   "id": "77b3bfa8",
   "metadata": {},
   "outputs": [
    {
     "name": "stdout",
     "output_type": "stream",
     "text": [
      "<class 'pandas.core.frame.DataFrame'>\n",
      "RangeIndex: 20640 entries, 0 to 20639\n",
      "Data columns (total 9 columns):\n",
      " #   Column       Non-Null Count  Dtype  \n",
      "---  ------       --------------  -----  \n",
      " 0   MedInc       20640 non-null  float64\n",
      " 1   HouseAge     20640 non-null  float64\n",
      " 2   AveRooms     20640 non-null  float64\n",
      " 3   AveBedrms    20640 non-null  float64\n",
      " 4   Population   20640 non-null  float64\n",
      " 5   AveOccup     20640 non-null  float64\n",
      " 6   Latitude     20640 non-null  float64\n",
      " 7   Longitude    20640 non-null  float64\n",
      " 8   MedHouseVal  20640 non-null  float64\n",
      "dtypes: float64(9)\n",
      "memory usage: 1.4 MB\n"
     ]
    }
   ],
   "source": [
    "housing.info()"
   ]
  },
  {
   "cell_type": "code",
   "execution_count": 174,
   "id": "6e5b94c6",
   "metadata": {},
   "outputs": [
    {
     "data": {
      "application/vnd.microsoft.datawrangler.viewer.v0+json": {
       "columns": [
        {
         "name": "index",
         "rawType": "object",
         "type": "string"
        },
        {
         "name": "MedInc",
         "rawType": "float64",
         "type": "float"
        },
        {
         "name": "HouseAge",
         "rawType": "float64",
         "type": "float"
        },
        {
         "name": "AveRooms",
         "rawType": "float64",
         "type": "float"
        },
        {
         "name": "AveBedrms",
         "rawType": "float64",
         "type": "float"
        },
        {
         "name": "Population",
         "rawType": "float64",
         "type": "float"
        },
        {
         "name": "AveOccup",
         "rawType": "float64",
         "type": "float"
        },
        {
         "name": "Latitude",
         "rawType": "float64",
         "type": "float"
        },
        {
         "name": "Longitude",
         "rawType": "float64",
         "type": "float"
        },
        {
         "name": "MedHouseVal",
         "rawType": "float64",
         "type": "float"
        }
       ],
       "ref": "e059cfdf-6c3a-4eab-8b3e-4c51c675fb28",
       "rows": [
        [
         "count",
         "20640.0",
         "20640.0",
         "20640.0",
         "20640.0",
         "20640.0",
         "20640.0",
         "20640.0",
         "20640.0",
         "20640.0"
        ],
        [
         "mean",
         "3.8706710029069766",
         "28.639486434108527",
         "5.428999742190376",
         "1.096675149606208",
         "1425.4767441860465",
         "3.0706551594363742",
         "35.63186143410853",
         "-119.56970445736432",
         "2.068558169089147"
        ],
        [
         "std",
         "1.8998217179452688",
         "12.58555761211165",
         "2.4741731394243187",
         "0.473910856795466",
         "1132.462121765341",
         "10.386049562213618",
         "2.1359523974571153",
         "2.0035317235025882",
         "1.1539561587441387"
        ],
        [
         "min",
         "0.4999",
         "1.0",
         "0.8461538461538461",
         "0.3333333333333333",
         "3.0",
         "0.6923076923076923",
         "32.54",
         "-124.35",
         "0.14999"
        ],
        [
         "25%",
         "2.5633999999999997",
         "18.0",
         "4.440716235896959",
         "1.006079046038478",
         "787.0",
         "2.4297411475535755",
         "33.93",
         "-121.8",
         "1.196"
        ],
        [
         "50%",
         "3.5347999999999997",
         "29.0",
         "5.229128787878788",
         "1.048780487804878",
         "1166.0",
         "2.818115654360196",
         "34.26",
         "-118.49",
         "1.797"
        ],
        [
         "75%",
         "4.74325",
         "37.0",
         "6.052380952380952",
         "1.099526066350711",
         "1725.0",
         "3.2822609242736216",
         "37.71",
         "-118.01",
         "2.6472499999999997"
        ],
        [
         "max",
         "15.0001",
         "52.0",
         "141.9090909090909",
         "34.06666666666667",
         "35682.0",
         "1243.3333333333333",
         "41.95",
         "-114.31",
         "5.00001"
        ]
       ],
       "shape": {
        "columns": 9,
        "rows": 8
       }
      },
      "text/html": [
       "<div>\n",
       "<style scoped>\n",
       "    .dataframe tbody tr th:only-of-type {\n",
       "        vertical-align: middle;\n",
       "    }\n",
       "\n",
       "    .dataframe tbody tr th {\n",
       "        vertical-align: top;\n",
       "    }\n",
       "\n",
       "    .dataframe thead th {\n",
       "        text-align: right;\n",
       "    }\n",
       "</style>\n",
       "<table border=\"1\" class=\"dataframe\">\n",
       "  <thead>\n",
       "    <tr style=\"text-align: right;\">\n",
       "      <th></th>\n",
       "      <th>MedInc</th>\n",
       "      <th>HouseAge</th>\n",
       "      <th>AveRooms</th>\n",
       "      <th>AveBedrms</th>\n",
       "      <th>Population</th>\n",
       "      <th>AveOccup</th>\n",
       "      <th>Latitude</th>\n",
       "      <th>Longitude</th>\n",
       "      <th>MedHouseVal</th>\n",
       "    </tr>\n",
       "  </thead>\n",
       "  <tbody>\n",
       "    <tr>\n",
       "      <th>count</th>\n",
       "      <td>20640.000000</td>\n",
       "      <td>20640.000000</td>\n",
       "      <td>20640.000000</td>\n",
       "      <td>20640.000000</td>\n",
       "      <td>20640.000000</td>\n",
       "      <td>20640.000000</td>\n",
       "      <td>20640.000000</td>\n",
       "      <td>20640.000000</td>\n",
       "      <td>20640.000000</td>\n",
       "    </tr>\n",
       "    <tr>\n",
       "      <th>mean</th>\n",
       "      <td>3.870671</td>\n",
       "      <td>28.639486</td>\n",
       "      <td>5.429000</td>\n",
       "      <td>1.096675</td>\n",
       "      <td>1425.476744</td>\n",
       "      <td>3.070655</td>\n",
       "      <td>35.631861</td>\n",
       "      <td>-119.569704</td>\n",
       "      <td>2.068558</td>\n",
       "    </tr>\n",
       "    <tr>\n",
       "      <th>std</th>\n",
       "      <td>1.899822</td>\n",
       "      <td>12.585558</td>\n",
       "      <td>2.474173</td>\n",
       "      <td>0.473911</td>\n",
       "      <td>1132.462122</td>\n",
       "      <td>10.386050</td>\n",
       "      <td>2.135952</td>\n",
       "      <td>2.003532</td>\n",
       "      <td>1.153956</td>\n",
       "    </tr>\n",
       "    <tr>\n",
       "      <th>min</th>\n",
       "      <td>0.499900</td>\n",
       "      <td>1.000000</td>\n",
       "      <td>0.846154</td>\n",
       "      <td>0.333333</td>\n",
       "      <td>3.000000</td>\n",
       "      <td>0.692308</td>\n",
       "      <td>32.540000</td>\n",
       "      <td>-124.350000</td>\n",
       "      <td>0.149990</td>\n",
       "    </tr>\n",
       "    <tr>\n",
       "      <th>25%</th>\n",
       "      <td>2.563400</td>\n",
       "      <td>18.000000</td>\n",
       "      <td>4.440716</td>\n",
       "      <td>1.006079</td>\n",
       "      <td>787.000000</td>\n",
       "      <td>2.429741</td>\n",
       "      <td>33.930000</td>\n",
       "      <td>-121.800000</td>\n",
       "      <td>1.196000</td>\n",
       "    </tr>\n",
       "    <tr>\n",
       "      <th>50%</th>\n",
       "      <td>3.534800</td>\n",
       "      <td>29.000000</td>\n",
       "      <td>5.229129</td>\n",
       "      <td>1.048780</td>\n",
       "      <td>1166.000000</td>\n",
       "      <td>2.818116</td>\n",
       "      <td>34.260000</td>\n",
       "      <td>-118.490000</td>\n",
       "      <td>1.797000</td>\n",
       "    </tr>\n",
       "    <tr>\n",
       "      <th>75%</th>\n",
       "      <td>4.743250</td>\n",
       "      <td>37.000000</td>\n",
       "      <td>6.052381</td>\n",
       "      <td>1.099526</td>\n",
       "      <td>1725.000000</td>\n",
       "      <td>3.282261</td>\n",
       "      <td>37.710000</td>\n",
       "      <td>-118.010000</td>\n",
       "      <td>2.647250</td>\n",
       "    </tr>\n",
       "    <tr>\n",
       "      <th>max</th>\n",
       "      <td>15.000100</td>\n",
       "      <td>52.000000</td>\n",
       "      <td>141.909091</td>\n",
       "      <td>34.066667</td>\n",
       "      <td>35682.000000</td>\n",
       "      <td>1243.333333</td>\n",
       "      <td>41.950000</td>\n",
       "      <td>-114.310000</td>\n",
       "      <td>5.000010</td>\n",
       "    </tr>\n",
       "  </tbody>\n",
       "</table>\n",
       "</div>"
      ],
      "text/plain": [
       "             MedInc      HouseAge      AveRooms     AveBedrms    Population  \\\n",
       "count  20640.000000  20640.000000  20640.000000  20640.000000  20640.000000   \n",
       "mean       3.870671     28.639486      5.429000      1.096675   1425.476744   \n",
       "std        1.899822     12.585558      2.474173      0.473911   1132.462122   \n",
       "min        0.499900      1.000000      0.846154      0.333333      3.000000   \n",
       "25%        2.563400     18.000000      4.440716      1.006079    787.000000   \n",
       "50%        3.534800     29.000000      5.229129      1.048780   1166.000000   \n",
       "75%        4.743250     37.000000      6.052381      1.099526   1725.000000   \n",
       "max       15.000100     52.000000    141.909091     34.066667  35682.000000   \n",
       "\n",
       "           AveOccup      Latitude     Longitude   MedHouseVal  \n",
       "count  20640.000000  20640.000000  20640.000000  20640.000000  \n",
       "mean       3.070655     35.631861   -119.569704      2.068558  \n",
       "std       10.386050      2.135952      2.003532      1.153956  \n",
       "min        0.692308     32.540000   -124.350000      0.149990  \n",
       "25%        2.429741     33.930000   -121.800000      1.196000  \n",
       "50%        2.818116     34.260000   -118.490000      1.797000  \n",
       "75%        3.282261     37.710000   -118.010000      2.647250  \n",
       "max     1243.333333     41.950000   -114.310000      5.000010  "
      ]
     },
     "execution_count": 174,
     "metadata": {},
     "output_type": "execute_result"
    }
   ],
   "source": [
    "housing.describe()"
   ]
  },
  {
   "cell_type": "markdown",
   "id": "d52bab9b",
   "metadata": {},
   "source": [
    "To get an overview of how the different features relate to each other—and especially how they correlate with the target variable—we can visualize the feature correlation matrix using a heatmap."
   ]
  },
  {
   "cell_type": "code",
   "execution_count": 175,
   "id": "75604aea",
   "metadata": {},
   "outputs": [
    {
     "data": {
      "text/plain": [
       "Text(0.5, 1.0, 'California Housing')"
      ]
     },
     "execution_count": 175,
     "metadata": {},
     "output_type": "execute_result"
    },
    {
     "data": {
      "image/png": "[encoded data removed]",
      "text/plain": [
       "<Figure size 800x600 with 2 Axes>"
      ]
     },
     "metadata": {},
     "output_type": "display_data"
    }
   ],
   "source": [
    "plt.figure(figsize=(8, 6))\n",
    "sns.heatmap(housing.corr(), annot=True).set_title('California Housing')"
   ]
  },
  {
   "cell_type": "markdown",
   "id": "220a1ba1",
   "metadata": {},
   "source": [
    "Next, we split the dataset into **features** and **target**. The target variable, `MedHouseVal`, represents the median house value, while the remaining columns are used as features."
   ]
  },
  {
   "cell_type": "code",
   "execution_count": 176,
   "id": "5feb1131",
   "metadata": {},
   "outputs": [],
   "source": [
    "X: pd.DataFrame = housing.drop(\"MedHouseVal\", axis=1)\n",
    "y: pd.Series = housing[\"MedHouseVal\"]"
   ]
  },
  {
   "cell_type": "code",
   "execution_count": 177,
   "id": "88f7e014",
   "metadata": {},
   "outputs": [],
   "source": [
    "X: np.ndarray = X.to_numpy()\n",
    "y: np.ndarray = y.to_numpy()"
   ]
  },
  {
   "cell_type": "markdown",
   "id": "9ae9c062",
   "metadata": {},
   "source": [
    "Alternatively, we could have loaded the data directly as NumPy arrays from the beginning using the `return_X_y=True` parameter."
   ]
  },
  {
   "cell_type": "code",
   "execution_count": 178,
   "id": "d1ebd897",
   "metadata": {},
   "outputs": [],
   "source": [
    "X, y = fetch_california_housing(return_X_y=True)"
   ]
  },
  {
   "cell_type": "markdown",
   "id": "5a94ea69",
   "metadata": {},
   "source": [
    "Before creating and training our model, we define several hyperparameters that control the process. We can also set a random seed for reproducibility."
   ]
  },
  {
   "cell_type": "code",
   "execution_count": 179,
   "id": "8d684000",
   "metadata": {},
   "outputs": [],
   "source": [
    "# np.random.seed(42)\n",
    "\n",
    "epochs = 100\n",
    "batch_size = 32\n",
    "eta = 0.1\n",
    "val_split = 0.1\n",
    "split_ratio = 0.75\n",
    "feature_dim = X.shape[1]"
   ]
  },
  {
   "cell_type": "markdown",
   "id": "6be2cd82",
   "metadata": {},
   "source": [
    "Shuffling the dataset before splitting it into training, validation, and test sets is an important preprocessing step. This prevents any potential ordering bias — for instance, if the dataset was sorted by the target variable. While the California housing dataset is not ordered in that way, shuffling still helps ensure that all subsets of the data are more representative of the overall distribution. This, in turn, helps the model generalize better to unseen examples.\n",
    "\n",
    "The following function implements this shuffling using NumPy's `permutation` function. By applying this function, the dataset is randomly shuffled, maintaining the correspondence between input features `X` and target values `y`."
   ]
  },
  {
   "cell_type": "code",
   "execution_count": 180,
   "id": "2ebf4a5b",
   "metadata": {},
   "outputs": [],
   "source": [
    "def shuffle_data(X: np.ndarray, y: np.ndarray) -> tuple[np.ndarray, np.ndarray]:\n",
    "    shuffle_indices = np.random.permutation(len(X))\n",
    "    X, y = X[shuffle_indices], y[shuffle_indices]\n",
    "\n",
    "    return X, y"
   ]
  },
  {
   "cell_type": "code",
   "execution_count": 181,
   "id": "5a79cfea",
   "metadata": {},
   "outputs": [],
   "source": [
    "X, y = shuffle_data(X, y)"
   ]
  },
  {
   "cell_type": "markdown",
   "id": "14d2b6e6",
   "metadata": {},
   "source": [
    "After shuffling, the next step is to split the dataset into **training** and **test** sets.\n",
    "\n",
    "We define a function that performs this split based on a specified ratio (e.g., 75% training and 25% test), maintaining alignment between features and targets in both sets."
   ]
  },
  {
   "cell_type": "code",
   "execution_count": 182,
   "id": "850f6ed3",
   "metadata": {},
   "outputs": [],
   "source": [
    "def split_dataset(X: np.ndarray, y: np.ndarray, split_ratio: float) -> tuple[np.ndarray, np.ndarray, np.ndarray, np.ndarray]:\n",
    "    split_size = int(len(X) * split_ratio)\n",
    "    X_train = X[:split_size]\n",
    "    y_train = y[:split_size]\n",
    "    X_test = X[split_size:]\n",
    "    y_test = y[split_size:]\n",
    "\n",
    "    return X_train, y_train, X_test, y_test"
   ]
  },
  {
   "cell_type": "code",
   "execution_count": 183,
   "id": "df0fbb99",
   "metadata": {},
   "outputs": [],
   "source": [
    "X_train, y_train, X_test, y_test = split_dataset(X, y, split_ratio)"
   ]
  },
  {
   "cell_type": "markdown",
   "id": "4c0976ff",
   "metadata": {},
   "source": [
    "Before training a model, it's important to normalize the features to ensure they are on a similar scale. This helps gradient-based optimization algorithms converge more efficiently and prevents features with larger magnitudes from dominating the learning process.\n",
    "\n",
    "One common normalization technique is **min-max scaling**, which rescales each feature to a fixed range — typically [0, 1].The transformation is defined by the following formula:\n",
    "\n",
    "$$\n",
    "x_{\\text{scaled}} = \\frac{x - x_{\\min}}{x_{\\max} - x_{\\min}}\n",
    "$$\n",
    "\n",
    "Where:\n",
    "- $x$ is the original value,\n",
    "- $x_{\\min}$ and $x_{\\max}$ are the minimum and maximum values of the feature in the training set.\n",
    "- $x_{\\text{scaled}}$ is the normalized value\n",
    "\n",
    "> ⚠️ **Important:** We must compute $x_{\\min}$ and $x_{\\max}$ **only from the training set**, and then apply these values to normalize both the training and test sets.  \n",
    "> This prevents **data leakage**, which occurs when information about the test set distribution influences the model during training. Using test set statistics would give the model unfair foresight and could lead to overly optimistic performance evaluations."
   ]
  },
  {
   "cell_type": "code",
   "execution_count": 184,
   "id": "4475cbb8",
   "metadata": {},
   "outputs": [],
   "source": [
    "class MinMaxScaler:\n",
    "    def fit_transform(self, data: np.ndarray) -> np.ndarray:\n",
    "        self.min_data = min(data)\n",
    "        self.max_data = max(data)\n",
    "        \n",
    "        return (data - self.min_data) / (self.max_data - self.min_data)\n",
    "    \n",
    "    def fit(self, data: np.ndarray) -> np.ndarray:\n",
    "        return (data - self.min_data) / (self.max_data - self.min_data)"
   ]
  },
  {
   "cell_type": "code",
   "execution_count": 185,
   "id": "5561a690",
   "metadata": {},
   "outputs": [],
   "source": [
    "def min_max_normalize(X_train: np.ndarray, X_test: np.ndarray) -> tuple[np.ndarray, np.ndarray]:\n",
    "    X_train_transpose = X_train.transpose()\n",
    "    X_test_transpose = X_test.transpose()\n",
    "    \n",
    "    for i in range(len(X_train_transpose)):\n",
    "        scaler = MinMaxScaler()\n",
    "        X_train_transpose[i, :] = scaler.fit_transform(X_train_transpose[i, :])\n",
    "        X_test_transpose[i, :] = scaler.fit(X_test_transpose[i, :])\n",
    "        \n",
    "    return X_train_transpose.transpose(), X_test_transpose.transpose()"
   ]
  },
  {
   "cell_type": "code",
   "execution_count": 186,
   "id": "47d3cce3",
   "metadata": {},
   "outputs": [],
   "source": [
    "X_train, X_test = min_max_normalize(X_train, X_test)"
   ]
  },
  {
   "cell_type": "markdown",
   "id": "2bba4ef0",
   "metadata": {},
   "source": [
    "We define an abstract `Loss` class to represent general loss functions. It includes a `mean_loss` method, which computes the mean value of the loss across all samples."
   ]
  },
  {
   "cell_type": "code",
   "execution_count": 187,
   "id": "da6cae6f",
   "metadata": {},
   "outputs": [],
   "source": [
    "class Loss:\n",
    "    def mean_loss(self, y_true: np.ndarray, y_pred: np.ndarray) -> float:\n",
    "        losses: np.ndarray = self(y_true, y_pred)\n",
    "        mean_loss = np.sum(losses) / len(losses)\n",
    "\n",
    "        return mean_loss"
   ]
  },
  {
   "cell_type": "markdown",
   "id": "818ed37f",
   "metadata": {},
   "source": [
    "The MSE class inherits from Loss and implements the squared loss and its gradient. Here, we return the element-wise loss for each prediction. This allows us to later compute the mean, sum, or other reductions if needed."
   ]
  },
  {
   "cell_type": "code",
   "execution_count": 188,
   "id": "43bf5462",
   "metadata": {},
   "outputs": [],
   "source": [
    "class MSE(Loss):   \n",
    "    def __call__(self, y_true: np.ndarray, y_pred: np.ndarray) -> np.ndarray:       \n",
    "        losses = (y_pred - y_true)**2 / 2\n",
    "        return losses\n",
    "    \n",
    "    def gradient(self, y_true: np.ndarray, y_pred: np.ndarray, X: np.ndarray) -> tuple[np.ndarray, float]:      \n",
    "        grad_w = ((y_pred - y_true).dot(X)) / len(X)\n",
    "        grad_b = np.sum((y_pred - y_true)) / len(X)\n",
    "        return grad_w, grad_b"
   ]
  },
  {
   "cell_type": "markdown",
   "id": "88f80e97",
   "metadata": {},
   "source": [
    "We now define a modular implementation of linear regression using NumPy. The implementation is split across two classes: `LinRModule` and `LinRModel`."
   ]
  },
  {
   "cell_type": "markdown",
   "id": "2d7b7009",
   "metadata": {},
   "source": [
    "The `LinRModule` class defines the core functionality shared by linear regression models, including:\n",
    "\n",
    "- Training the model via `fit`\n",
    "- Making predictions with `predict`\n",
    "- Evaluating performance with `evaluate`\n",
    "\n",
    "The constructor initializes the model with a mean squared error loss function.\n",
    "\n",
    "If a validation split is specified, the data is split into validation and training sets. The first `val_split` fraction of the data is used for validation. The rest is divided into batches. This enables mini-batch gradient descent. If a validation set was used, the validation loss is computed and logged alongside the training loss at each epoch."
   ]
  },
  {
   "cell_type": "code",
   "execution_count": 189,
   "id": "3c89c732",
   "metadata": {},
   "outputs": [],
   "source": [
    "class LinRModule:\n",
    "    def __init__(self):\n",
    "        self.loss = MSE()\n",
    "    \n",
    "    def fit(self, X: np.ndarray, y: np.ndarray, epochs: int, batch_size: int = 32, eta: float = 0.01, val_split: float = None) -> tuple[list[float], list[float]]:\n",
    "        if val_split:\n",
    "                split_size = int(len(X) * val_split)\n",
    "                X_val = X[:split_size]\n",
    "                y_val = y[:split_size]\n",
    "                X = X[split_size:]\n",
    "                y = y[split_size:]\n",
    "    \n",
    "        batches = [(X[i : i + batch_size], y[i : i + batch_size]) for i in range(0, len(X), batch_size)]\n",
    "        \n",
    "        losses = []\n",
    "        val_losses = []\n",
    "        for i in range(epochs):\n",
    "            loss = 0\n",
    "            for X_batch, y_true in batches:\n",
    "                y_pred = self(X_batch)\n",
    "                loss += self.loss.mean_loss(y_true, y_pred)\n",
    "                grad_w, grad_b = self.loss.gradient(y_true, y_pred, X_batch)\n",
    "                self.w -= eta * grad_w\n",
    "                self.b -= eta * grad_b\n",
    "\n",
    "            if val_split:\n",
    "                y_pred_val = self(X_val)\n",
    "                val_loss = self.loss.mean_loss(y_val, y_pred_val)\n",
    "                print(f\"Epoch {i}: Loss {loss/len(batches)}, Val-Loss {val_loss}\")\n",
    "                val_losses.append(val_loss)\n",
    "            else:\n",
    "                print(f\"Epoch {i}: Loss {loss/len(batches)}\")\n",
    "                \n",
    "            losses.append(loss/len(batches))\n",
    "\n",
    "        return losses, val_losses\n",
    "\n",
    "    def predict(self, X: np.ndarray) -> np.ndarray:\n",
    "        y_pred = self(X)\n",
    "        \n",
    "        return y_pred\n",
    "\n",
    "    \n",
    "    def evaluate(self, y_pred: np.ndarray, y_true: np.ndarray) -> tuple[float, float, float, float]:\n",
    "        mae = np.sum(np.abs(y_true - y_pred)) / len(y_true)\n",
    "        mse = np.sum((y_true - y_pred)**2) / len(y_true)\n",
    "        rmse = np.sqrt(np.sum((y_true - y_pred)**2) / len(y_true))\n",
    "        r2 = 1 - (np.sum((y_true - y_pred)**2) / np.sum((y_true - np.mean(y_true))**2))\n",
    "        \n",
    "        return mae, mse, rmse, r2"
   ]
  },
  {
   "cell_type": "markdown",
   "id": "d4d5c51c",
   "metadata": {},
   "source": [
    "The `LinRModel` class inherits from `LinRModule` and adds the model-specific components: parameter initialization and the forward computation. Weights and bias are initialized using random values drawn from a normal distribution."
   ]
  },
  {
   "cell_type": "code",
   "execution_count": 190,
   "id": "a5106aa4",
   "metadata": {},
   "outputs": [],
   "source": [
    "class LinRModel(LinRModule):\n",
    "    def __init__(self, feature_dim: int):\n",
    "        super().__init__()\n",
    "        self.w: np.ndarray = np.random.normal(size=(feature_dim))\n",
    "        self.b: np.ndarray = np.random.normal(size=1)\n",
    "        \n",
    "    def __call__(self, X: np.ndarray) -> np.ndarray:\n",
    "        y_pred = np.dot(X, self.w) + self.b\n",
    "               \n",
    "        return y_pred"
   ]
  },
  {
   "cell_type": "markdown",
   "id": "1611f677",
   "metadata": {},
   "source": [
    "We now instantiate our linear regression model using the number of input features and begin training it with the training data and the defined hyperparameters. The fit method returns two lists: history containing the training loss for each epoch, and val_history containing the validation loss if a validation split was specified."
   ]
  },
  {
   "cell_type": "code",
   "execution_count": 191,
   "id": "1a76156c",
   "metadata": {},
   "outputs": [
    {
     "name": "stdout",
     "output_type": "stream",
     "text": [
      "Epoch 0: Loss 0.5065857143812499, Val-Loss 0.3814187543525532\n",
      "Epoch 1: Loss 0.34806087609507647, Val-Loss 0.31969069783238224\n",
      "Epoch 2: Loss 0.31102834861591494, Val-Loss 0.3031249645972602\n",
      "Epoch 3: Loss 0.2994224760792555, Val-Loss 0.296755612845501\n",
      "Epoch 4: Loss 0.2941046534648583, Val-Loss 0.2928636288629628\n",
      "Epoch 5: Loss 0.29063189907570924, Val-Loss 0.2897814196234983\n",
      "Epoch 6: Loss 0.28792615558264373, Val-Loss 0.287146835535361\n",
      "Epoch 7: Loss 0.2856865851275769, Val-Loss 0.28486369526293703\n",
      "Epoch 8: Loss 0.2837980362940273, Val-Loss 0.2828847844176933\n",
      "Epoch 9: Loss 0.28219503195026263, Val-Loss 0.2811714382765663\n",
      "Epoch 10: Loss 0.2808297138189217, Val-Loss 0.27968818994669276\n",
      "Epoch 11: Loss 0.27966358263089397, Val-Loss 0.2784029943559724\n",
      "Epoch 12: Loss 0.27866477473190593, Val-Loss 0.27728763055571415\n",
      "Epoch 13: Loss 0.27780671611217045, Val-Loss 0.27631767740895297\n",
      "Epoch 14: Loss 0.27706719890412984, Val-Loss 0.27547221521742343\n",
      "Epoch 15: Loss 0.27642765096553157, Val-Loss 0.27473341931472045\n",
      "Epoch 16: Loss 0.2758725332998826, Val-Loss 0.27408613978073204\n",
      "Epoch 17: Loss 0.27538883800532243, Val-Loss 0.27351751027129484\n",
      "Epoch 18: Loss 0.27496566935362415, Val-Loss 0.2730166015622678\n",
      "Epoch 19: Loss 0.2745938943284907, Val-Loss 0.27257412238962253\n",
      "Epoch 20: Loss 0.27426585123124064, Val-Loss 0.2721821645858506\n",
      "Epoch 21: Loss 0.2739751067728313, Val-Loss 0.2718339875109419\n",
      "Epoch 22: Loss 0.27371625360844115, Val-Loss 0.2715238364039029\n",
      "Epoch 23: Loss 0.2734847415812897, Val-Loss 0.271246789596752\n",
      "Epoch 24: Loss 0.27327673705181427, Val-Loss 0.27099863009696806\n",
      "Epoch 25: Loss 0.27308900562159233, Val-Loss 0.27077573765839874\n",
      "Epoch 26: Loss 0.27291881434307363, Val-Loss 0.27057499804117635\n",
      "Epoch 27: Loss 0.2727638501592126, Val-Loss 0.2703937266778598\n",
      "Epoch 28: Loss 0.2726221518616949, Val-Loss 0.27022960440931526\n",
      "Epoch 29: Loss 0.2724920533103105, Val-Loss 0.2700806233332915\n",
      "Epoch 30: Loss 0.2723721360339757, Val-Loss 0.26994504112849876\n",
      "Epoch 31: Loss 0.27226118964862395, Val-Loss 0.26982134248532996\n",
      "Epoch 32: Loss 0.2721581787891308, Val-Loss 0.2697082064989016\n",
      "Epoch 33: Loss 0.2720622154705357, Val-Loss 0.2696044790677016\n",
      "Epoch 34: Loss 0.2719725359753007, Val-Loss 0.269509149497799\n",
      "Epoch 35: Loss 0.2718884815144464, Val-Loss 0.26942133064334395\n",
      "Epoch 36: Loss 0.2718094820361561, Val-Loss 0.26934024202324647\n",
      "Epoch 37: Loss 0.271735042660117, Val-Loss 0.2692651954450501\n",
      "Epoch 38: Loss 0.27166473230299865, Val-Loss 0.2691955827431028\n",
      "Epoch 39: Loss 0.27159817413302034, Val-Loss 0.2691308653016717\n",
      "Epoch 40: Loss 0.27153503755193376, Val-Loss 0.2690705650867364\n",
      "Epoch 41: Loss 0.2714750314530345, Val-Loss 0.26901425695456005\n",
      "Epoch 42: Loss 0.271417898545667, Val-Loss 0.2689615620422306\n",
      "Epoch 43: Loss 0.2713634105715563, Val-Loss 0.26891214207638614\n",
      "Epoch 44: Loss 0.2713113642673108, Val-Loss 0.2688656944623016\n",
      "Epoch 45: Loss 0.27126157795162803, Val-Loss 0.2688219480372473\n",
      "Epoch 46: Loss 0.27121388863586177, Val-Loss 0.26878065939023876\n",
      "Epoch 47: Loss 0.27116814957338164, Val-Loss 0.26874160966555444\n",
      "Epoch 48: Loss 0.27112422817712906, Val-Loss 0.26870460178020544\n",
      "Epoch 49: Loss 0.27108200424641915, Val-Loss 0.2686694579962789\n",
      "Epoch 50: Loss 0.27104136845373217, Val-Loss 0.26863601779810364\n",
      "Epoch 51: Loss 0.2710022210503387, Val-Loss 0.26860413603177397\n",
      "Epoch 52: Loss 0.2709644707563245, Val-Loss 0.26857368127094966\n",
      "Epoch 53: Loss 0.27092803380622643, Val-Loss 0.26854453437822745\n",
      "Epoch 54: Loss 0.2708928331261552, Val-Loss 0.26851658723590943\n",
      "Epoch 55: Loss 0.27085879762221143, Val-Loss 0.26848974162382205\n",
      "Epoch 56: Loss 0.27082586156326066, Val-Loss 0.268463908225068\n",
      "Epoch 57: Loss 0.2707939640438442, Val-Loss 0.26843900574332996\n",
      "Epoch 58: Loss 0.27076304851530547, Val-Loss 0.2684149601176593\n",
      "Epoch 59: Loss 0.27073306237508504, Val-Loss 0.268391703822649\n",
      "Epoch 60: Loss 0.27070395660574775, Val-Loss 0.2683691752435568\n",
      "Epoch 61: Loss 0.2706756854566202, Val-Loss 0.2683473181173668\n",
      "Epoch 62: Loss 0.2706482061620381, Val-Loss 0.2683260810319862\n",
      "Epoch 63: Loss 0.2706214786911279, Val-Loss 0.26830541697680615\n",
      "Epoch 64: Loss 0.2705954655248314, Val-Loss 0.2682852829387411\n",
      "Epoch 65: Loss 0.2705701314565351, Val-Loss 0.268265639538615\n",
      "Epoch 66: Loss 0.27054544341320774, Val-Loss 0.26824645070341374\n",
      "Epoch 67: Loss 0.27052137029442835, Val-Loss 0.2682276833704819\n",
      "Epoch 68: Loss 0.2704978828270467, Val-Loss 0.2682093072202218\n",
      "Epoch 69: Loss 0.2704749534335793, Val-Loss 0.26819129443426964\n",
      "Epoch 70: Loss 0.2704525561126814, Val-Loss 0.26817361947648266\n",
      "Epoch 71: Loss 0.27043066633029955, Val-Loss 0.26815625889438427\n",
      "Epoch 72: Loss 0.2704092609202871, Val-Loss 0.2681391911389826\n",
      "Epoch 73: Loss 0.2703883179934302, Val-Loss 0.26812239640111685\n",
      "Epoch 74: Loss 0.2703678168539866, Val-Loss 0.26810585646269164\n",
      "Epoch 75: Loss 0.2703477379229436, Val-Loss 0.2680895545613369\n",
      "Epoch 76: Loss 0.27032806266730847, Val-Loss 0.26807347526719333\n",
      "Epoch 77: Loss 0.27030877353483984, Val-Loss 0.26805760437065956\n",
      "Epoch 78: Loss 0.2702898538936818, Val-Loss 0.2680419287800599\n",
      "Epoch 79: Loss 0.27027128797645233, Val-Loss 0.2680264364283002\n",
      "Epoch 80: Loss 0.27025306082836775, Val-Loss 0.2680111161876755\n",
      "Epoch 81: Loss 0.2702351582590473, Val-Loss 0.2679959577920747\n",
      "Epoch 82: Loss 0.2702175667976769, Val-Loss 0.2679809517659074\n",
      "Epoch 83: Loss 0.27020027365124594, Val-Loss 0.2679660893591402\n",
      "Epoch 84: Loss 0.27018326666560066, Val-Loss 0.2679513624878921\n",
      "Epoch 85: Loss 0.2701665342890889, Val-Loss 0.2679367636800914\n",
      "Epoch 86: Loss 0.2701500655385848, Val-Loss 0.2679222860257433\n",
      "Epoch 87: Loss 0.27013384996771483, Val-Loss 0.2679079231314003\n",
      "Epoch 88: Loss 0.27011787763711137, Val-Loss 0.26789366907846607\n",
      "Epoch 89: Loss 0.2701021390865463, Val-Loss 0.267879518384998\n",
      "Epoch 90: Loss 0.27008662530880173, Val-Loss 0.26786546597070277\n",
      "Epoch 91: Loss 0.2700713277251575, Val-Loss 0.26785150712484934\n",
      "Epoch 92: Loss 0.2700562381623763, Val-Loss 0.26783763747684786\n",
      "Epoch 93: Loss 0.27004134883108133, Val-Loss 0.2678238529692655\n",
      "Epoch 94: Loss 0.27002665230543504, Val-Loss 0.2678101498330704\n",
      "Epoch 95: Loss 0.2700121415040219, Val-Loss 0.2677965245649147\n",
      "Epoch 96: Loss 0.26999780967186, Val-Loss 0.2677829739062832\n",
      "Epoch 97: Loss 0.2699836503634694, Val-Loss 0.26776949482434953\n",
      "Epoch 98: Loss 0.26996965742691337, Val-Loss 0.26775608449439714\n",
      "Epoch 99: Loss 0.2699558249887691, Val-Loss 0.26774274028367145\n"
     ]
    }
   ],
   "source": [
    "model = LinRModel(feature_dim)\n",
    "history, val_history = model.fit(X_train, y_train, epochs, batch_size, eta, val_split)"
   ]
  },
  {
   "cell_type": "markdown",
   "id": "3f4093c9",
   "metadata": {},
   "source": [
    "To better understand how the model is learning, we can visualize the loss curves across epochs using Seaborn’s relplot. This can help us monitor convergence and detect underfitting or overfitting."
   ]
  },
  {
   "cell_type": "code",
   "execution_count": 192,
   "id": "e3121259",
   "metadata": {},
   "outputs": [
    {
     "data": {
      "image/png": "[encoded data removed]",
      "text/plain": [
       "<Figure size 558.875x500 with 1 Axes>"
      ]
     },
     "metadata": {},
     "output_type": "display_data"
    }
   ],
   "source": [
    "plot: sns.FacetGrid = sns.relplot(data=(history, val_history), kind=\"line\")\n",
    "plt.xlabel(\"Epochs\")\n",
    "plt.ylabel(\"Loss\")\n",
    "new_labels: list[str] = ['Training', 'Validation']\n",
    "for texts, labels in zip(plot._legend.texts, new_labels):\n",
    "    texts.set_text(labels)"
   ]
  },
  {
   "cell_type": "markdown",
   "id": "3bf7438f",
   "metadata": {},
   "source": [
    "After training the model and validating its performance during training, we now evaluate how well it performs on the unseen test data. The predict method generates predictions for the test set, and the evaluate method computes the four decribed evaluation metrics. This output gives a comprehensive overview of how accurately the model is able to generalize to new data."
   ]
  },
  {
   "cell_type": "code",
   "execution_count": 193,
   "id": "41fe54fa",
   "metadata": {},
   "outputs": [
    {
     "name": "stdout",
     "output_type": "stream",
     "text": [
      "MAE: 0.546743294627733\n",
      "MSE: 0.5348709997620067\n",
      "RMSE: 0.7313487538527749\n",
      "R2: 0.5953488825501091\n"
     ]
    }
   ],
   "source": [
    "y_pred = model.predict(X_test)\n",
    "mae, mse, rmse, r2 = model.evaluate(y_pred, y_test)\n",
    "print(\"MAE:\", mae)\n",
    "print(\"MSE:\", mse)\n",
    "print(\"RMSE:\", rmse)\n",
    "print(\"R2:\", r2)"
   ]
  },
  {
   "cell_type": "markdown",
   "id": "23fde002",
   "metadata": {},
   "source": [
    "## Conclusion\n",
    "\n",
    "This notebook demonstrated a fundamental implementation of linear regression from scratch, applied to a widely used benchmark dataset — the California housing dataset. It also provided a detailed explanation of the theory behind linear regression, helping to connect the mathematical foundations with practical implementation.\n",
    "\n",
    "While the model presented here works well for demonstration purposes, it can be adapted to other datasets as well. However, when doing so, it is important to perform proper exploratory data analysis (EDA) and feature engineering to ensure the model receives meaningful and well-structured input.\n",
    "\n",
    "Finally, this implementation provides a solid foundation that can be extended further. Techniques such as regularization (e.g., L1/L2 penalties), early stopping, or adaptive learning rates could improve generalization and training efficiency, especially when working with more complex or noisy datasets."
   ]
  },
  {
   "cell_type": "markdown",
   "id": "e12d19b7",
   "metadata": {},
   "source": [
    "## References\n",
    "\n",
    "Deisenroth, M. P., Faisal, A. A., & Ong, C. S. (2020). *Mathematics for machine learning*. Cambridge University Press. Retrieved from https://mml-book.github.io/\n",
    "\n",
    "Goodfellow, I., Bengio, Y., & Courville, A. (2016). *Deep Learning*. MIT Press. Retrieved from https://www.deeplearningbook.org/\n",
    "\n",
    "Zhang, A., Lipton, Z. C., Li, M., & Smola, A. J. (2022). *Dive into Deep Learning*. Retrieved from https://d2l.ai/chapter_linear-regression/linear-regression.html\n",
    "\n",
    "Ng, A. (n.d.). *Linear Regression with One Variable [Video]*. Deep Learning Specialization, Stanford University. Retrieved from https://www.youtube.com/watch?v=4b4MUYve_U8&list=PLoROMvodv4rMiGQp3WXShtMGgzqpfVfbU&index=3\n"
   ]
  }
 ],
 "metadata": {
  "kernelspec": {
   "display_name": ".venv",
   "language": "python",
   "name": "python3"
  },
  "language_info": {
   "codemirror_mode": {
    "name": "ipython",
    "version": 3
   },
   "file_extension": ".py",
   "mimetype": "text/x-python",
   "name": "python",
   "nbconvert_exporter": "python",
   "pygments_lexer": "ipython3",
   "version": "3.12.8"
  }
 },
 "nbformat": 4,
 "nbformat_minor": 5
}
