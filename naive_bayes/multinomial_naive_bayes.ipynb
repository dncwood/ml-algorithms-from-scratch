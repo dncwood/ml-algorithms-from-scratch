{
 "cells": [
  {
   "cell_type": "markdown",
   "id": "0e26e9b2",
   "metadata": {},
   "source": [
    "## Multinomial Naive Bayes Implemention from Scratch"
   ]
  },
  {
   "cell_type": "code",
   "execution_count": 256,
   "id": "8d8ce621",
   "metadata": {},
   "outputs": [],
   "source": [
    "import numpy as np\n",
    "import pandas as pd\n",
    "\n",
    "from sklearn.feature_extraction.text import CountVectorizer\n",
    "from sklearn.metrics import classification_report"
   ]
  },
  {
   "cell_type": "code",
   "execution_count": 257,
   "id": "ee1928bd",
   "metadata": {},
   "outputs": [
    {
     "data": {
      "application/vnd.microsoft.datawrangler.viewer.v0+json": {
       "columns": [
        {
         "name": "index",
         "rawType": "int64",
         "type": "integer"
        },
        {
         "name": "class",
         "rawType": "object",
         "type": "string"
        },
        {
         "name": "message",
         "rawType": "object",
         "type": "string"
        },
        {
         "name": "stemmed",
         "rawType": "object",
         "type": "string"
        },
        {
         "name": "not_stemmed",
         "rawType": "object",
         "type": "string"
        }
       ],
       "ref": "b05d3ac0-f5d2-4378-a037-9d79487c22bb",
       "rows": [
        [
         "0",
         "ham",
         "Go until jurong point, crazy.. Available only in bugis n great world la e buffet... Cine there got amore wat...",
         "go wrong point crazi avail bug n great world la e buffet cine got wat",
         "go until wrong point crazy available only in bugs n great world la e buffet cine there got more wat"
        ],
        [
         "1",
         "ham",
         "Ok lar... Joking wif u oni...",
         "ok lar joke",
         "ok lar joking if you on"
        ],
        [
         "2",
         "spam",
         "Free entry in 2 a wkly comp to win FA Cup final tkts 21st May 2005. Text FA to 87121 to receive entry question(std txt rate)T&C's apply 08452810075over18's",
         "free entri number wili come win fa cup final tit number st may number text fa number receiv entri question sad text rate c appli number number",
         "free entry in number a wily come to win fa cup final tits number st may number text fa to number to receive entry question sad text rate t c s apply number over number s"
        ],
        [
         "3",
         "ham",
         "U dun say so early hor... U c already then say...",
         "u dun say earli c alreadi say",
         "u dun say so early for you c already then say"
        ],
        [
         "4",
         "ham",
         "Nah I don't think he goes to usf, he lives around here though",
         "nah think goe us live around though",
         "nah i don t think he goes to us he lives around here though"
        ]
       ],
       "shape": {
        "columns": 4,
        "rows": 5
       }
      },
      "text/html": [
       "<div>\n",
       "<style scoped>\n",
       "    .dataframe tbody tr th:only-of-type {\n",
       "        vertical-align: middle;\n",
       "    }\n",
       "\n",
       "    .dataframe tbody tr th {\n",
       "        vertical-align: top;\n",
       "    }\n",
       "\n",
       "    .dataframe thead th {\n",
       "        text-align: right;\n",
       "    }\n",
       "</style>\n",
       "<table border=\"1\" class=\"dataframe\">\n",
       "  <thead>\n",
       "    <tr style=\"text-align: right;\">\n",
       "      <th></th>\n",
       "      <th>class</th>\n",
       "      <th>message</th>\n",
       "      <th>stemmed</th>\n",
       "      <th>not_stemmed</th>\n",
       "    </tr>\n",
       "  </thead>\n",
       "  <tbody>\n",
       "    <tr>\n",
       "      <th>0</th>\n",
       "      <td>ham</td>\n",
       "      <td>Go until jurong point, crazy.. Available only ...</td>\n",
       "      <td>go wrong point crazi avail bug n great world l...</td>\n",
       "      <td>go until wrong point crazy available only in b...</td>\n",
       "    </tr>\n",
       "    <tr>\n",
       "      <th>1</th>\n",
       "      <td>ham</td>\n",
       "      <td>Ok lar... Joking wif u oni...</td>\n",
       "      <td>ok lar joke</td>\n",
       "      <td>ok lar joking if you on</td>\n",
       "    </tr>\n",
       "    <tr>\n",
       "      <th>2</th>\n",
       "      <td>spam</td>\n",
       "      <td>Free entry in 2 a wkly comp to win FA Cup fina...</td>\n",
       "      <td>free entri number wili come win fa cup final t...</td>\n",
       "      <td>free entry in number a wily come to win fa cup...</td>\n",
       "    </tr>\n",
       "    <tr>\n",
       "      <th>3</th>\n",
       "      <td>ham</td>\n",
       "      <td>U dun say so early hor... U c already then say...</td>\n",
       "      <td>u dun say earli c alreadi say</td>\n",
       "      <td>u dun say so early for you c already then say</td>\n",
       "    </tr>\n",
       "    <tr>\n",
       "      <th>4</th>\n",
       "      <td>ham</td>\n",
       "      <td>Nah I don't think he goes to usf, he lives aro...</td>\n",
       "      <td>nah think goe us live around though</td>\n",
       "      <td>nah i don t think he goes to us he lives aroun...</td>\n",
       "    </tr>\n",
       "  </tbody>\n",
       "</table>\n",
       "</div>"
      ],
      "text/plain": [
       "  class                                            message  \\\n",
       "0   ham  Go until jurong point, crazy.. Available only ...   \n",
       "1   ham                      Ok lar... Joking wif u oni...   \n",
       "2  spam  Free entry in 2 a wkly comp to win FA Cup fina...   \n",
       "3   ham  U dun say so early hor... U c already then say...   \n",
       "4   ham  Nah I don't think he goes to usf, he lives aro...   \n",
       "\n",
       "                                             stemmed  \\\n",
       "0  go wrong point crazi avail bug n great world l...   \n",
       "1                                        ok lar joke   \n",
       "2  free entri number wili come win fa cup final t...   \n",
       "3                      u dun say earli c alreadi say   \n",
       "4                nah think goe us live around though   \n",
       "\n",
       "                                         not_stemmed  \n",
       "0  go until wrong point crazy available only in b...  \n",
       "1                            ok lar joking if you on  \n",
       "2  free entry in number a wily come to win fa cup...  \n",
       "3      u dun say so early for you c already then say  \n",
       "4  nah i don t think he goes to us he lives aroun...  "
      ]
     },
     "execution_count": 257,
     "metadata": {},
     "output_type": "execute_result"
    }
   ],
   "source": [
    "spam = pd.read_csv(\"../datasets/sms_spam/sms_spam_cleaned.csv\", delimiter=\";\", index_col=0)\n",
    "spam.head()"
   ]
  },
  {
   "cell_type": "code",
   "execution_count": 258,
   "id": "82ea6655",
   "metadata": {},
   "outputs": [
    {
     "name": "stdout",
     "output_type": "stream",
     "text": [
      "<class 'pandas.core.frame.DataFrame'>\n",
      "Index: 5572 entries, 0 to 5571\n",
      "Data columns (total 4 columns):\n",
      " #   Column       Non-Null Count  Dtype \n",
      "---  ------       --------------  ----- \n",
      " 0   class        5572 non-null   object\n",
      " 1   message      5572 non-null   object\n",
      " 2   stemmed      5562 non-null   object\n",
      " 3   not_stemmed  5570 non-null   object\n",
      "dtypes: object(4)\n",
      "memory usage: 217.7+ KB\n"
     ]
    }
   ],
   "source": [
    "spam.info()"
   ]
  },
  {
   "cell_type": "code",
   "execution_count": 259,
   "id": "6e836cce",
   "metadata": {},
   "outputs": [],
   "source": [
    "spam['stemmed'] = spam['stemmed'].fillna(\"\")\n",
    "spam['not_stemmed'] = spam['not_stemmed'].fillna(\"\")"
   ]
  },
  {
   "cell_type": "code",
   "execution_count": 260,
   "id": "fbfd2a7f",
   "metadata": {},
   "outputs": [
    {
     "data": {
      "application/vnd.microsoft.datawrangler.viewer.v0+json": {
       "columns": [
        {
         "name": "class",
         "rawType": "object",
         "type": "string"
        },
        {
         "name": "count",
         "rawType": "int64",
         "type": "integer"
        }
       ],
       "ref": "99ccbfae-16ef-4650-bfbe-85eddff03af2",
       "rows": [
        [
         "ham",
         "4825"
        ],
        [
         "spam",
         "747"
        ]
       ],
       "shape": {
        "columns": 1,
        "rows": 2
       }
      },
      "text/plain": [
       "class\n",
       "ham     4825\n",
       "spam     747\n",
       "Name: count, dtype: int64"
      ]
     },
     "execution_count": 260,
     "metadata": {},
     "output_type": "execute_result"
    }
   ],
   "source": [
    "spam['class'].value_counts()"
   ]
  },
  {
   "cell_type": "code",
   "execution_count": 261,
   "id": "c610ab55",
   "metadata": {},
   "outputs": [],
   "source": [
    "cv = CountVectorizer()\n",
    "X = cv.fit_transform(spam['stemmed']).toarray()"
   ]
  },
  {
   "cell_type": "code",
   "execution_count": 262,
   "id": "f6de10c4",
   "metadata": {},
   "outputs": [
    {
     "data": {
      "text/plain": [
       "(5572, 4905)"
      ]
     },
     "execution_count": 262,
     "metadata": {},
     "output_type": "execute_result"
    }
   ],
   "source": [
    "X.shape"
   ]
  },
  {
   "cell_type": "code",
   "execution_count": 263,
   "id": "64a53fa2",
   "metadata": {},
   "outputs": [],
   "source": [
    "y = np.where(spam['class'] == 'ham', 0, 1)"
   ]
  },
  {
   "cell_type": "code",
   "execution_count": 264,
   "id": "e89b8e11",
   "metadata": {},
   "outputs": [],
   "source": [
    "def shuffle_data(X, y):\n",
    "    shuffle_indices = np.random.permutation(len(X))\n",
    "    X, y = X[shuffle_indices], y[shuffle_indices]\n",
    "\n",
    "    return X, y"
   ]
  },
  {
   "cell_type": "code",
   "execution_count": 265,
   "id": "2cceadd4",
   "metadata": {},
   "outputs": [],
   "source": [
    "X, y = shuffle_data(X, y)"
   ]
  },
  {
   "cell_type": "code",
   "execution_count": 266,
   "id": "e2fc00ee",
   "metadata": {},
   "outputs": [],
   "source": [
    "def split_dataset(X, y, split_ratio):\n",
    "    split_size = int(len(X) * split_ratio)\n",
    "    X_train = X[:split_size]\n",
    "    y_train = y[:split_size]\n",
    "    X_test = X[split_size:]\n",
    "    y_test = y[split_size:]\n",
    "\n",
    "    return X_train, y_train, X_test, y_test"
   ]
  },
  {
   "cell_type": "code",
   "execution_count": 267,
   "id": "969b21f3",
   "metadata": {},
   "outputs": [],
   "source": [
    "split_ratio = 0.75"
   ]
  },
  {
   "cell_type": "code",
   "execution_count": 268,
   "id": "d90624cd",
   "metadata": {},
   "outputs": [],
   "source": [
    "X_train, y_train, X_test, y_test = split_dataset(X, y, split_ratio)"
   ]
  },
  {
   "cell_type": "code",
   "execution_count": 269,
   "id": "ee847f4f",
   "metadata": {},
   "outputs": [],
   "source": [
    "class MultinomialNaiveBayes:  \n",
    "    def fit(self, X, y):\n",
    "        self.likelihoods_1 = (np.sum(X[y == 1], axis=0) + 1) / ((np.sum(X[y == 1])) + X.shape[1])\n",
    "        self.likelihoods_0 = (np.sum(X[y == 0], axis=0) + 1) / (np.sum(X[y == 0]) + X.shape[1])\n",
    "        self.prior = np.sum(y) / len(y)\n",
    "   \n",
    "    def predict(self, X):\n",
    "        joint_log_likelihood_1 = np.sum(X * np.log(self.likelihoods_1), axis=1)\n",
    "        joint_log_likelihood_0 = np.sum(X * np.log(self.likelihoods_0), axis=1)\n",
    "        log_posterior_1 = joint_log_likelihood_1 + np.log(self.prior)\n",
    "        log_posterior_0 = joint_log_likelihood_0 + np.log(1 - self.prior)\n",
    "        y_pred = (log_posterior_1 > log_posterior_0).astype(int)\n",
    "        \n",
    "        return y_pred"
   ]
  },
  {
   "cell_type": "code",
   "execution_count": 270,
   "id": "ca63d93a",
   "metadata": {},
   "outputs": [],
   "source": [
    "model = MultinomialNaiveBayes()\n",
    "model.fit(X_train, y_train)"
   ]
  },
  {
   "cell_type": "code",
   "execution_count": 271,
   "id": "fe8ed231",
   "metadata": {},
   "outputs": [],
   "source": [
    "y_pred = model.predict(X_test)"
   ]
  },
  {
   "cell_type": "code",
   "execution_count": 272,
   "id": "3e3447a0",
   "metadata": {},
   "outputs": [
    {
     "name": "stdout",
     "output_type": "stream",
     "text": [
      "              precision    recall  f1-score   support\n",
      "\n",
      "           0       0.99      0.98      0.98      1211\n",
      "           1       0.87      0.92      0.89       182\n",
      "\n",
      "    accuracy                           0.97      1393\n",
      "   macro avg       0.93      0.95      0.94      1393\n",
      "weighted avg       0.97      0.97      0.97      1393\n",
      "\n"
     ]
    }
   ],
   "source": [
    "print(classification_report(y_test, y_pred))"
   ]
  }
 ],
 "metadata": {
  "kernelspec": {
   "display_name": ".venv",
   "language": "python",
   "name": "python3"
  },
  "language_info": {
   "codemirror_mode": {
    "name": "ipython",
    "version": 3
   },
   "file_extension": ".py",
   "mimetype": "text/x-python",
   "name": "python",
   "nbconvert_exporter": "python",
   "pygments_lexer": "ipython3",
   "version": "3.12.8"
  }
 },
 "nbformat": 4,
 "nbformat_minor": 5
}
